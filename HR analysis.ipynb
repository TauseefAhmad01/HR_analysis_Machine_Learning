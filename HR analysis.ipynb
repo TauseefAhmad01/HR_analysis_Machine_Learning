{
 "cells": [
  {
   "cell_type": "code",
   "execution_count": 1,
   "id": "26af6f70",
   "metadata": {},
   "outputs": [],
   "source": [
    "import pandas as pd\n",
    "import numpy as np\n",
    "import matplotlib.pyplot as plt\n",
    "import seaborn as sns\n",
    "import warnings\n",
    "warnings.filterwarnings('ignore')\n",
    "from sklearn.linear_model import LogisticRegression\n"
   ]
  },
  {
   "cell_type": "code",
   "execution_count": 2,
   "id": "9e4fa104",
   "metadata": {},
   "outputs": [],
   "source": [
    "data=pd.read_csv(\"HR_comma_sep.csv\")"
   ]
  },
  {
   "cell_type": "code",
   "execution_count": 3,
   "id": "3db6b917",
   "metadata": {},
   "outputs": [
    {
     "data": {
      "text/html": [
       "<div>\n",
       "<style scoped>\n",
       "    .dataframe tbody tr th:only-of-type {\n",
       "        vertical-align: middle;\n",
       "    }\n",
       "\n",
       "    .dataframe tbody tr th {\n",
       "        vertical-align: top;\n",
       "    }\n",
       "\n",
       "    .dataframe thead th {\n",
       "        text-align: right;\n",
       "    }\n",
       "</style>\n",
       "<table border=\"1\" class=\"dataframe\">\n",
       "  <thead>\n",
       "    <tr style=\"text-align: right;\">\n",
       "      <th></th>\n",
       "      <th>satisfaction_level</th>\n",
       "      <th>last_evaluation</th>\n",
       "      <th>number_project</th>\n",
       "      <th>average_montly_hours</th>\n",
       "      <th>time_spend_company</th>\n",
       "      <th>Work_accident</th>\n",
       "      <th>left</th>\n",
       "      <th>promotion_last_5years</th>\n",
       "      <th>Departments</th>\n",
       "      <th>salary</th>\n",
       "    </tr>\n",
       "  </thead>\n",
       "  <tbody>\n",
       "    <tr>\n",
       "      <th>0</th>\n",
       "      <td>0.38</td>\n",
       "      <td>0.53</td>\n",
       "      <td>2</td>\n",
       "      <td>157</td>\n",
       "      <td>3</td>\n",
       "      <td>0</td>\n",
       "      <td>1</td>\n",
       "      <td>0</td>\n",
       "      <td>sales</td>\n",
       "      <td>low</td>\n",
       "    </tr>\n",
       "    <tr>\n",
       "      <th>1</th>\n",
       "      <td>0.80</td>\n",
       "      <td>0.86</td>\n",
       "      <td>5</td>\n",
       "      <td>262</td>\n",
       "      <td>6</td>\n",
       "      <td>0</td>\n",
       "      <td>1</td>\n",
       "      <td>0</td>\n",
       "      <td>sales</td>\n",
       "      <td>medium</td>\n",
       "    </tr>\n",
       "    <tr>\n",
       "      <th>2</th>\n",
       "      <td>0.11</td>\n",
       "      <td>0.88</td>\n",
       "      <td>7</td>\n",
       "      <td>272</td>\n",
       "      <td>4</td>\n",
       "      <td>0</td>\n",
       "      <td>1</td>\n",
       "      <td>0</td>\n",
       "      <td>sales</td>\n",
       "      <td>medium</td>\n",
       "    </tr>\n",
       "    <tr>\n",
       "      <th>3</th>\n",
       "      <td>0.72</td>\n",
       "      <td>0.87</td>\n",
       "      <td>5</td>\n",
       "      <td>223</td>\n",
       "      <td>5</td>\n",
       "      <td>0</td>\n",
       "      <td>1</td>\n",
       "      <td>0</td>\n",
       "      <td>sales</td>\n",
       "      <td>low</td>\n",
       "    </tr>\n",
       "    <tr>\n",
       "      <th>4</th>\n",
       "      <td>0.37</td>\n",
       "      <td>0.52</td>\n",
       "      <td>2</td>\n",
       "      <td>159</td>\n",
       "      <td>3</td>\n",
       "      <td>0</td>\n",
       "      <td>1</td>\n",
       "      <td>0</td>\n",
       "      <td>sales</td>\n",
       "      <td>low</td>\n",
       "    </tr>\n",
       "  </tbody>\n",
       "</table>\n",
       "</div>"
      ],
      "text/plain": [
       "   satisfaction_level  last_evaluation  number_project  average_montly_hours  \\\n",
       "0                0.38             0.53               2                   157   \n",
       "1                0.80             0.86               5                   262   \n",
       "2                0.11             0.88               7                   272   \n",
       "3                0.72             0.87               5                   223   \n",
       "4                0.37             0.52               2                   159   \n",
       "\n",
       "   time_spend_company  Work_accident  left  promotion_last_5years  \\\n",
       "0                   3              0     1                      0   \n",
       "1                   6              0     1                      0   \n",
       "2                   4              0     1                      0   \n",
       "3                   5              0     1                      0   \n",
       "4                   3              0     1                      0   \n",
       "\n",
       "  Departments   salary  \n",
       "0        sales     low  \n",
       "1        sales  medium  \n",
       "2        sales  medium  \n",
       "3        sales     low  \n",
       "4        sales     low  "
      ]
     },
     "execution_count": 3,
     "metadata": {},
     "output_type": "execute_result"
    }
   ],
   "source": [
    "data.head()"
   ]
  },
  {
   "cell_type": "code",
   "execution_count": 4,
   "id": "bee59d0f",
   "metadata": {},
   "outputs": [
    {
     "data": {
      "text/plain": [
       "satisfaction_level       0\n",
       "last_evaluation          0\n",
       "number_project           0\n",
       "average_montly_hours     0\n",
       "time_spend_company       0\n",
       "Work_accident            0\n",
       "left                     0\n",
       "promotion_last_5years    0\n",
       "Departments              0\n",
       "salary                   0\n",
       "dtype: int64"
      ]
     },
     "execution_count": 4,
     "metadata": {},
     "output_type": "execute_result"
    }
   ],
   "source": [
    "data.isnull().sum()"
   ]
  },
  {
   "cell_type": "code",
   "execution_count": 5,
   "id": "1ff2f34b",
   "metadata": {},
   "outputs": [
    {
     "data": {
      "text/plain": [
       "<AxesSubplot:xlabel='left', ylabel='count'>"
      ]
     },
     "execution_count": 5,
     "metadata": {},
     "output_type": "execute_result"
    },
    {
     "data": {
      "image/png": "[encoded data removed]",
      "text/plain": [
       "<Figure size 432x288 with 1 Axes>"
      ]
     },
     "metadata": {
      "needs_background": "light"
     },
     "output_type": "display_data"
    }
   ],
   "source": [
    "sns.countplot(x='left',hue='Departments ',data=data)"
   ]
  },
  {
   "cell_type": "code",
   "execution_count": 6,
   "id": "d89f91b1",
   "metadata": {},
   "outputs": [
    {
     "data": {
      "text/plain": [
       "[Text(0, 0, 'low'), Text(1, 0, 'medium'), Text(2, 0, 'high')]"
      ]
     },
     "execution_count": 6,
     "metadata": {},
     "output_type": "execute_result"
    },
    {
     "data": {
      "image/png": "[encoded data removed]",
      "text/plain": [
       "<Figure size 432x288 with 1 Axes>"
      ]
     },
     "metadata": {
      "needs_background": "light"
     },
     "output_type": "display_data"
    }
   ],
   "source": [
    "chart = sns.barplot(x='salary', y= 'satisfaction_level', data=data, palette='Set1', ci=None) \n",
    "chart.set_xticklabels(chart.get_xticklabels(),rotation=90)"
   ]
  },
  {
   "cell_type": "code",
   "execution_count": 7,
   "id": "d354e183",
   "metadata": {},
   "outputs": [],
   "source": [
    "#converting string value into integers to apply algorithm, becausde they apply only on numbers\n",
    "sal=pd.get_dummies(data['salary'],drop_first=True)"
   ]
  },
  {
   "cell_type": "code",
   "execution_count": 8,
   "id": "b6ea1d62",
   "metadata": {},
   "outputs": [
    {
     "data": {
      "text/html": [
       "<div>\n",
       "<style scoped>\n",
       "    .dataframe tbody tr th:only-of-type {\n",
       "        vertical-align: middle;\n",
       "    }\n",
       "\n",
       "    .dataframe tbody tr th {\n",
       "        vertical-align: top;\n",
       "    }\n",
       "\n",
       "    .dataframe thead th {\n",
       "        text-align: right;\n",
       "    }\n",
       "</style>\n",
       "<table border=\"1\" class=\"dataframe\">\n",
       "  <thead>\n",
       "    <tr style=\"text-align: right;\">\n",
       "      <th></th>\n",
       "      <th>low</th>\n",
       "      <th>medium</th>\n",
       "    </tr>\n",
       "  </thead>\n",
       "  <tbody>\n",
       "    <tr>\n",
       "      <th>0</th>\n",
       "      <td>1</td>\n",
       "      <td>0</td>\n",
       "    </tr>\n",
       "    <tr>\n",
       "      <th>1</th>\n",
       "      <td>0</td>\n",
       "      <td>1</td>\n",
       "    </tr>\n",
       "    <tr>\n",
       "      <th>2</th>\n",
       "      <td>0</td>\n",
       "      <td>1</td>\n",
       "    </tr>\n",
       "    <tr>\n",
       "      <th>3</th>\n",
       "      <td>1</td>\n",
       "      <td>0</td>\n",
       "    </tr>\n",
       "    <tr>\n",
       "      <th>4</th>\n",
       "      <td>1</td>\n",
       "      <td>0</td>\n",
       "    </tr>\n",
       "    <tr>\n",
       "      <th>...</th>\n",
       "      <td>...</td>\n",
       "      <td>...</td>\n",
       "    </tr>\n",
       "    <tr>\n",
       "      <th>14994</th>\n",
       "      <td>1</td>\n",
       "      <td>0</td>\n",
       "    </tr>\n",
       "    <tr>\n",
       "      <th>14995</th>\n",
       "      <td>1</td>\n",
       "      <td>0</td>\n",
       "    </tr>\n",
       "    <tr>\n",
       "      <th>14996</th>\n",
       "      <td>1</td>\n",
       "      <td>0</td>\n",
       "    </tr>\n",
       "    <tr>\n",
       "      <th>14997</th>\n",
       "      <td>1</td>\n",
       "      <td>0</td>\n",
       "    </tr>\n",
       "    <tr>\n",
       "      <th>14998</th>\n",
       "      <td>1</td>\n",
       "      <td>0</td>\n",
       "    </tr>\n",
       "  </tbody>\n",
       "</table>\n",
       "<p>14999 rows × 2 columns</p>\n",
       "</div>"
      ],
      "text/plain": [
       "       low  medium\n",
       "0        1       0\n",
       "1        0       1\n",
       "2        0       1\n",
       "3        1       0\n",
       "4        1       0\n",
       "...    ...     ...\n",
       "14994    1       0\n",
       "14995    1       0\n",
       "14996    1       0\n",
       "14997    1       0\n",
       "14998    1       0\n",
       "\n",
       "[14999 rows x 2 columns]"
      ]
     },
     "execution_count": 8,
     "metadata": {},
     "output_type": "execute_result"
    }
   ],
   "source": [
    "sal"
   ]
  },
  {
   "cell_type": "code",
   "execution_count": 9,
   "id": "4bf58336",
   "metadata": {},
   "outputs": [],
   "source": [
    "#so here if low=0, medium=0, thuis means it is high"
   ]
  },
  {
   "cell_type": "code",
   "execution_count": 10,
   "id": "d0188a96",
   "metadata": {},
   "outputs": [
    {
     "data": {
      "text/html": [
       "<div>\n",
       "<style scoped>\n",
       "    .dataframe tbody tr th:only-of-type {\n",
       "        vertical-align: middle;\n",
       "    }\n",
       "\n",
       "    .dataframe tbody tr th {\n",
       "        vertical-align: top;\n",
       "    }\n",
       "\n",
       "    .dataframe thead th {\n",
       "        text-align: right;\n",
       "    }\n",
       "</style>\n",
       "<table border=\"1\" class=\"dataframe\">\n",
       "  <thead>\n",
       "    <tr style=\"text-align: right;\">\n",
       "      <th></th>\n",
       "      <th>RandD</th>\n",
       "      <th>accounting</th>\n",
       "      <th>hr</th>\n",
       "      <th>management</th>\n",
       "      <th>marketing</th>\n",
       "      <th>product_mng</th>\n",
       "      <th>sales</th>\n",
       "      <th>support</th>\n",
       "      <th>technical</th>\n",
       "    </tr>\n",
       "  </thead>\n",
       "  <tbody>\n",
       "    <tr>\n",
       "      <th>0</th>\n",
       "      <td>0</td>\n",
       "      <td>0</td>\n",
       "      <td>0</td>\n",
       "      <td>0</td>\n",
       "      <td>0</td>\n",
       "      <td>0</td>\n",
       "      <td>1</td>\n",
       "      <td>0</td>\n",
       "      <td>0</td>\n",
       "    </tr>\n",
       "    <tr>\n",
       "      <th>1</th>\n",
       "      <td>0</td>\n",
       "      <td>0</td>\n",
       "      <td>0</td>\n",
       "      <td>0</td>\n",
       "      <td>0</td>\n",
       "      <td>0</td>\n",
       "      <td>1</td>\n",
       "      <td>0</td>\n",
       "      <td>0</td>\n",
       "    </tr>\n",
       "    <tr>\n",
       "      <th>2</th>\n",
       "      <td>0</td>\n",
       "      <td>0</td>\n",
       "      <td>0</td>\n",
       "      <td>0</td>\n",
       "      <td>0</td>\n",
       "      <td>0</td>\n",
       "      <td>1</td>\n",
       "      <td>0</td>\n",
       "      <td>0</td>\n",
       "    </tr>\n",
       "    <tr>\n",
       "      <th>3</th>\n",
       "      <td>0</td>\n",
       "      <td>0</td>\n",
       "      <td>0</td>\n",
       "      <td>0</td>\n",
       "      <td>0</td>\n",
       "      <td>0</td>\n",
       "      <td>1</td>\n",
       "      <td>0</td>\n",
       "      <td>0</td>\n",
       "    </tr>\n",
       "    <tr>\n",
       "      <th>4</th>\n",
       "      <td>0</td>\n",
       "      <td>0</td>\n",
       "      <td>0</td>\n",
       "      <td>0</td>\n",
       "      <td>0</td>\n",
       "      <td>0</td>\n",
       "      <td>1</td>\n",
       "      <td>0</td>\n",
       "      <td>0</td>\n",
       "    </tr>\n",
       "    <tr>\n",
       "      <th>...</th>\n",
       "      <td>...</td>\n",
       "      <td>...</td>\n",
       "      <td>...</td>\n",
       "      <td>...</td>\n",
       "      <td>...</td>\n",
       "      <td>...</td>\n",
       "      <td>...</td>\n",
       "      <td>...</td>\n",
       "      <td>...</td>\n",
       "    </tr>\n",
       "    <tr>\n",
       "      <th>14994</th>\n",
       "      <td>0</td>\n",
       "      <td>0</td>\n",
       "      <td>0</td>\n",
       "      <td>0</td>\n",
       "      <td>0</td>\n",
       "      <td>0</td>\n",
       "      <td>0</td>\n",
       "      <td>1</td>\n",
       "      <td>0</td>\n",
       "    </tr>\n",
       "    <tr>\n",
       "      <th>14995</th>\n",
       "      <td>0</td>\n",
       "      <td>0</td>\n",
       "      <td>0</td>\n",
       "      <td>0</td>\n",
       "      <td>0</td>\n",
       "      <td>0</td>\n",
       "      <td>0</td>\n",
       "      <td>1</td>\n",
       "      <td>0</td>\n",
       "    </tr>\n",
       "    <tr>\n",
       "      <th>14996</th>\n",
       "      <td>0</td>\n",
       "      <td>0</td>\n",
       "      <td>0</td>\n",
       "      <td>0</td>\n",
       "      <td>0</td>\n",
       "      <td>0</td>\n",
       "      <td>0</td>\n",
       "      <td>1</td>\n",
       "      <td>0</td>\n",
       "    </tr>\n",
       "    <tr>\n",
       "      <th>14997</th>\n",
       "      <td>0</td>\n",
       "      <td>0</td>\n",
       "      <td>0</td>\n",
       "      <td>0</td>\n",
       "      <td>0</td>\n",
       "      <td>0</td>\n",
       "      <td>0</td>\n",
       "      <td>1</td>\n",
       "      <td>0</td>\n",
       "    </tr>\n",
       "    <tr>\n",
       "      <th>14998</th>\n",
       "      <td>0</td>\n",
       "      <td>0</td>\n",
       "      <td>0</td>\n",
       "      <td>0</td>\n",
       "      <td>0</td>\n",
       "      <td>0</td>\n",
       "      <td>0</td>\n",
       "      <td>1</td>\n",
       "      <td>0</td>\n",
       "    </tr>\n",
       "  </tbody>\n",
       "</table>\n",
       "<p>14999 rows × 9 columns</p>\n",
       "</div>"
      ],
      "text/plain": [
       "       RandD  accounting  hr  management  marketing  product_mng  sales  \\\n",
       "0          0           0   0           0          0            0      1   \n",
       "1          0           0   0           0          0            0      1   \n",
       "2          0           0   0           0          0            0      1   \n",
       "3          0           0   0           0          0            0      1   \n",
       "4          0           0   0           0          0            0      1   \n",
       "...      ...         ...  ..         ...        ...          ...    ...   \n",
       "14994      0           0   0           0          0            0      0   \n",
       "14995      0           0   0           0          0            0      0   \n",
       "14996      0           0   0           0          0            0      0   \n",
       "14997      0           0   0           0          0            0      0   \n",
       "14998      0           0   0           0          0            0      0   \n",
       "\n",
       "       support  technical  \n",
       "0            0          0  \n",
       "1            0          0  \n",
       "2            0          0  \n",
       "3            0          0  \n",
       "4            0          0  \n",
       "...        ...        ...  \n",
       "14994        1          0  \n",
       "14995        1          0  \n",
       "14996        1          0  \n",
       "14997        1          0  \n",
       "14998        1          0  \n",
       "\n",
       "[14999 rows x 9 columns]"
      ]
     },
     "execution_count": 10,
     "metadata": {},
     "output_type": "execute_result"
    }
   ],
   "source": [
    "dep=pd.get_dummies(data['Departments '],drop_first=True)\n",
    "dep"
   ]
  },
  {
   "cell_type": "code",
   "execution_count": 11,
   "id": "26e1d616",
   "metadata": {},
   "outputs": [],
   "source": [
    "data.drop(['Departments ','salary'],axis=1,inplace=True)"
   ]
  },
  {
   "cell_type": "code",
   "execution_count": 12,
   "id": "142db482",
   "metadata": {},
   "outputs": [
    {
     "data": {
      "text/html": [
       "<div>\n",
       "<style scoped>\n",
       "    .dataframe tbody tr th:only-of-type {\n",
       "        vertical-align: middle;\n",
       "    }\n",
       "\n",
       "    .dataframe tbody tr th {\n",
       "        vertical-align: top;\n",
       "    }\n",
       "\n",
       "    .dataframe thead th {\n",
       "        text-align: right;\n",
       "    }\n",
       "</style>\n",
       "<table border=\"1\" class=\"dataframe\">\n",
       "  <thead>\n",
       "    <tr style=\"text-align: right;\">\n",
       "      <th></th>\n",
       "      <th>satisfaction_level</th>\n",
       "      <th>last_evaluation</th>\n",
       "      <th>number_project</th>\n",
       "      <th>average_montly_hours</th>\n",
       "      <th>time_spend_company</th>\n",
       "      <th>Work_accident</th>\n",
       "      <th>left</th>\n",
       "      <th>promotion_last_5years</th>\n",
       "    </tr>\n",
       "  </thead>\n",
       "  <tbody>\n",
       "    <tr>\n",
       "      <th>0</th>\n",
       "      <td>0.38</td>\n",
       "      <td>0.53</td>\n",
       "      <td>2</td>\n",
       "      <td>157</td>\n",
       "      <td>3</td>\n",
       "      <td>0</td>\n",
       "      <td>1</td>\n",
       "      <td>0</td>\n",
       "    </tr>\n",
       "    <tr>\n",
       "      <th>1</th>\n",
       "      <td>0.80</td>\n",
       "      <td>0.86</td>\n",
       "      <td>5</td>\n",
       "      <td>262</td>\n",
       "      <td>6</td>\n",
       "      <td>0</td>\n",
       "      <td>1</td>\n",
       "      <td>0</td>\n",
       "    </tr>\n",
       "    <tr>\n",
       "      <th>2</th>\n",
       "      <td>0.11</td>\n",
       "      <td>0.88</td>\n",
       "      <td>7</td>\n",
       "      <td>272</td>\n",
       "      <td>4</td>\n",
       "      <td>0</td>\n",
       "      <td>1</td>\n",
       "      <td>0</td>\n",
       "    </tr>\n",
       "    <tr>\n",
       "      <th>3</th>\n",
       "      <td>0.72</td>\n",
       "      <td>0.87</td>\n",
       "      <td>5</td>\n",
       "      <td>223</td>\n",
       "      <td>5</td>\n",
       "      <td>0</td>\n",
       "      <td>1</td>\n",
       "      <td>0</td>\n",
       "    </tr>\n",
       "    <tr>\n",
       "      <th>4</th>\n",
       "      <td>0.37</td>\n",
       "      <td>0.52</td>\n",
       "      <td>2</td>\n",
       "      <td>159</td>\n",
       "      <td>3</td>\n",
       "      <td>0</td>\n",
       "      <td>1</td>\n",
       "      <td>0</td>\n",
       "    </tr>\n",
       "  </tbody>\n",
       "</table>\n",
       "</div>"
      ],
      "text/plain": [
       "   satisfaction_level  last_evaluation  number_project  average_montly_hours  \\\n",
       "0                0.38             0.53               2                   157   \n",
       "1                0.80             0.86               5                   262   \n",
       "2                0.11             0.88               7                   272   \n",
       "3                0.72             0.87               5                   223   \n",
       "4                0.37             0.52               2                   159   \n",
       "\n",
       "   time_spend_company  Work_accident  left  promotion_last_5years  \n",
       "0                   3              0     1                      0  \n",
       "1                   6              0     1                      0  \n",
       "2                   4              0     1                      0  \n",
       "3                   5              0     1                      0  \n",
       "4                   3              0     1                      0  "
      ]
     },
     "execution_count": 12,
     "metadata": {},
     "output_type": "execute_result"
    }
   ],
   "source": [
    "data.head()"
   ]
  },
  {
   "cell_type": "code",
   "execution_count": 13,
   "id": "cdc4d428",
   "metadata": {},
   "outputs": [],
   "source": [
    "#dropped,....now we have to concatenate"
   ]
  },
  {
   "cell_type": "code",
   "execution_count": 14,
   "id": "f12d9ccd",
   "metadata": {},
   "outputs": [
    {
     "data": {
      "text/html": [
       "<div>\n",
       "<style scoped>\n",
       "    .dataframe tbody tr th:only-of-type {\n",
       "        vertical-align: middle;\n",
       "    }\n",
       "\n",
       "    .dataframe tbody tr th {\n",
       "        vertical-align: top;\n",
       "    }\n",
       "\n",
       "    .dataframe thead th {\n",
       "        text-align: right;\n",
       "    }\n",
       "</style>\n",
       "<table border=\"1\" class=\"dataframe\">\n",
       "  <thead>\n",
       "    <tr style=\"text-align: right;\">\n",
       "      <th></th>\n",
       "      <th>satisfaction_level</th>\n",
       "      <th>last_evaluation</th>\n",
       "      <th>number_project</th>\n",
       "      <th>average_montly_hours</th>\n",
       "      <th>time_spend_company</th>\n",
       "      <th>Work_accident</th>\n",
       "      <th>left</th>\n",
       "      <th>promotion_last_5years</th>\n",
       "      <th>low</th>\n",
       "      <th>medium</th>\n",
       "      <th>RandD</th>\n",
       "      <th>accounting</th>\n",
       "      <th>hr</th>\n",
       "      <th>management</th>\n",
       "      <th>marketing</th>\n",
       "      <th>product_mng</th>\n",
       "      <th>sales</th>\n",
       "      <th>support</th>\n",
       "      <th>technical</th>\n",
       "    </tr>\n",
       "  </thead>\n",
       "  <tbody>\n",
       "    <tr>\n",
       "      <th>0</th>\n",
       "      <td>0.38</td>\n",
       "      <td>0.53</td>\n",
       "      <td>2</td>\n",
       "      <td>157</td>\n",
       "      <td>3</td>\n",
       "      <td>0</td>\n",
       "      <td>1</td>\n",
       "      <td>0</td>\n",
       "      <td>1</td>\n",
       "      <td>0</td>\n",
       "      <td>0</td>\n",
       "      <td>0</td>\n",
       "      <td>0</td>\n",
       "      <td>0</td>\n",
       "      <td>0</td>\n",
       "      <td>0</td>\n",
       "      <td>1</td>\n",
       "      <td>0</td>\n",
       "      <td>0</td>\n",
       "    </tr>\n",
       "    <tr>\n",
       "      <th>1</th>\n",
       "      <td>0.80</td>\n",
       "      <td>0.86</td>\n",
       "      <td>5</td>\n",
       "      <td>262</td>\n",
       "      <td>6</td>\n",
       "      <td>0</td>\n",
       "      <td>1</td>\n",
       "      <td>0</td>\n",
       "      <td>0</td>\n",
       "      <td>1</td>\n",
       "      <td>0</td>\n",
       "      <td>0</td>\n",
       "      <td>0</td>\n",
       "      <td>0</td>\n",
       "      <td>0</td>\n",
       "      <td>0</td>\n",
       "      <td>1</td>\n",
       "      <td>0</td>\n",
       "      <td>0</td>\n",
       "    </tr>\n",
       "    <tr>\n",
       "      <th>2</th>\n",
       "      <td>0.11</td>\n",
       "      <td>0.88</td>\n",
       "      <td>7</td>\n",
       "      <td>272</td>\n",
       "      <td>4</td>\n",
       "      <td>0</td>\n",
       "      <td>1</td>\n",
       "      <td>0</td>\n",
       "      <td>0</td>\n",
       "      <td>1</td>\n",
       "      <td>0</td>\n",
       "      <td>0</td>\n",
       "      <td>0</td>\n",
       "      <td>0</td>\n",
       "      <td>0</td>\n",
       "      <td>0</td>\n",
       "      <td>1</td>\n",
       "      <td>0</td>\n",
       "      <td>0</td>\n",
       "    </tr>\n",
       "    <tr>\n",
       "      <th>3</th>\n",
       "      <td>0.72</td>\n",
       "      <td>0.87</td>\n",
       "      <td>5</td>\n",
       "      <td>223</td>\n",
       "      <td>5</td>\n",
       "      <td>0</td>\n",
       "      <td>1</td>\n",
       "      <td>0</td>\n",
       "      <td>1</td>\n",
       "      <td>0</td>\n",
       "      <td>0</td>\n",
       "      <td>0</td>\n",
       "      <td>0</td>\n",
       "      <td>0</td>\n",
       "      <td>0</td>\n",
       "      <td>0</td>\n",
       "      <td>1</td>\n",
       "      <td>0</td>\n",
       "      <td>0</td>\n",
       "    </tr>\n",
       "    <tr>\n",
       "      <th>4</th>\n",
       "      <td>0.37</td>\n",
       "      <td>0.52</td>\n",
       "      <td>2</td>\n",
       "      <td>159</td>\n",
       "      <td>3</td>\n",
       "      <td>0</td>\n",
       "      <td>1</td>\n",
       "      <td>0</td>\n",
       "      <td>1</td>\n",
       "      <td>0</td>\n",
       "      <td>0</td>\n",
       "      <td>0</td>\n",
       "      <td>0</td>\n",
       "      <td>0</td>\n",
       "      <td>0</td>\n",
       "      <td>0</td>\n",
       "      <td>1</td>\n",
       "      <td>0</td>\n",
       "      <td>0</td>\n",
       "    </tr>\n",
       "  </tbody>\n",
       "</table>\n",
       "</div>"
      ],
      "text/plain": [
       "   satisfaction_level  last_evaluation  number_project  average_montly_hours  \\\n",
       "0                0.38             0.53               2                   157   \n",
       "1                0.80             0.86               5                   262   \n",
       "2                0.11             0.88               7                   272   \n",
       "3                0.72             0.87               5                   223   \n",
       "4                0.37             0.52               2                   159   \n",
       "\n",
       "   time_spend_company  Work_accident  left  promotion_last_5years  low  \\\n",
       "0                   3              0     1                      0    1   \n",
       "1                   6              0     1                      0    0   \n",
       "2                   4              0     1                      0    0   \n",
       "3                   5              0     1                      0    1   \n",
       "4                   3              0     1                      0    1   \n",
       "\n",
       "   medium  RandD  accounting  hr  management  marketing  product_mng  sales  \\\n",
       "0       0      0           0   0           0          0            0      1   \n",
       "1       1      0           0   0           0          0            0      1   \n",
       "2       1      0           0   0           0          0            0      1   \n",
       "3       0      0           0   0           0          0            0      1   \n",
       "4       0      0           0   0           0          0            0      1   \n",
       "\n",
       "   support  technical  \n",
       "0        0          0  \n",
       "1        0          0  \n",
       "2        0          0  \n",
       "3        0          0  \n",
       "4        0          0  "
      ]
     },
     "execution_count": 14,
     "metadata": {},
     "output_type": "execute_result"
    }
   ],
   "source": [
    "data=pd.concat([data,sal,dep],axis=1)\n",
    "data.head()"
   ]
  },
  {
   "cell_type": "markdown",
   "id": "35ad1bf1",
   "metadata": {},
   "source": [
    "## Scaling of Data"
   ]
  },
  {
   "cell_type": "code",
   "execution_count": 15,
   "id": "a031000a",
   "metadata": {},
   "outputs": [
    {
     "data": {
      "text/plain": [
       "StandardScaler()"
      ]
     },
     "execution_count": 15,
     "metadata": {},
     "output_type": "execute_result"
    }
   ],
   "source": [
    "#for this we have to import formk sklearn\n",
    "from sklearn.preprocessing import StandardScaler\n",
    "\n",
    "#usedn to fit the data value into same range\n",
    "scaler=StandardScaler()\n",
    "scaler.fit(data)"
   ]
  },
  {
   "cell_type": "code",
   "execution_count": 16,
   "id": "9d02cd9e",
   "metadata": {},
   "outputs": [
    {
     "data": {
      "text/html": [
       "<div>\n",
       "<style scoped>\n",
       "    .dataframe tbody tr th:only-of-type {\n",
       "        vertical-align: middle;\n",
       "    }\n",
       "\n",
       "    .dataframe tbody tr th {\n",
       "        vertical-align: top;\n",
       "    }\n",
       "\n",
       "    .dataframe thead th {\n",
       "        text-align: right;\n",
       "    }\n",
       "</style>\n",
       "<table border=\"1\" class=\"dataframe\">\n",
       "  <thead>\n",
       "    <tr style=\"text-align: right;\">\n",
       "      <th></th>\n",
       "      <th>satisfaction_level</th>\n",
       "      <th>last_evaluation</th>\n",
       "      <th>number_project</th>\n",
       "      <th>average_montly_hours</th>\n",
       "      <th>time_spend_company</th>\n",
       "      <th>Work_accident</th>\n",
       "      <th>left</th>\n",
       "      <th>promotion_last_5years</th>\n",
       "      <th>low</th>\n",
       "      <th>medium</th>\n",
       "      <th>RandD</th>\n",
       "      <th>accounting</th>\n",
       "      <th>hr</th>\n",
       "      <th>management</th>\n",
       "      <th>marketing</th>\n",
       "      <th>product_mng</th>\n",
       "      <th>sales</th>\n",
       "      <th>support</th>\n",
       "      <th>technical</th>\n",
       "    </tr>\n",
       "  </thead>\n",
       "  <tbody>\n",
       "    <tr>\n",
       "      <th>0</th>\n",
       "      <td>0.38</td>\n",
       "      <td>0.53</td>\n",
       "      <td>2</td>\n",
       "      <td>157</td>\n",
       "      <td>3</td>\n",
       "      <td>0</td>\n",
       "      <td>1</td>\n",
       "      <td>0</td>\n",
       "      <td>1</td>\n",
       "      <td>0</td>\n",
       "      <td>0</td>\n",
       "      <td>0</td>\n",
       "      <td>0</td>\n",
       "      <td>0</td>\n",
       "      <td>0</td>\n",
       "      <td>0</td>\n",
       "      <td>1</td>\n",
       "      <td>0</td>\n",
       "      <td>0</td>\n",
       "    </tr>\n",
       "    <tr>\n",
       "      <th>1</th>\n",
       "      <td>0.80</td>\n",
       "      <td>0.86</td>\n",
       "      <td>5</td>\n",
       "      <td>262</td>\n",
       "      <td>6</td>\n",
       "      <td>0</td>\n",
       "      <td>1</td>\n",
       "      <td>0</td>\n",
       "      <td>0</td>\n",
       "      <td>1</td>\n",
       "      <td>0</td>\n",
       "      <td>0</td>\n",
       "      <td>0</td>\n",
       "      <td>0</td>\n",
       "      <td>0</td>\n",
       "      <td>0</td>\n",
       "      <td>1</td>\n",
       "      <td>0</td>\n",
       "      <td>0</td>\n",
       "    </tr>\n",
       "    <tr>\n",
       "      <th>2</th>\n",
       "      <td>0.11</td>\n",
       "      <td>0.88</td>\n",
       "      <td>7</td>\n",
       "      <td>272</td>\n",
       "      <td>4</td>\n",
       "      <td>0</td>\n",
       "      <td>1</td>\n",
       "      <td>0</td>\n",
       "      <td>0</td>\n",
       "      <td>1</td>\n",
       "      <td>0</td>\n",
       "      <td>0</td>\n",
       "      <td>0</td>\n",
       "      <td>0</td>\n",
       "      <td>0</td>\n",
       "      <td>0</td>\n",
       "      <td>1</td>\n",
       "      <td>0</td>\n",
       "      <td>0</td>\n",
       "    </tr>\n",
       "    <tr>\n",
       "      <th>3</th>\n",
       "      <td>0.72</td>\n",
       "      <td>0.87</td>\n",
       "      <td>5</td>\n",
       "      <td>223</td>\n",
       "      <td>5</td>\n",
       "      <td>0</td>\n",
       "      <td>1</td>\n",
       "      <td>0</td>\n",
       "      <td>1</td>\n",
       "      <td>0</td>\n",
       "      <td>0</td>\n",
       "      <td>0</td>\n",
       "      <td>0</td>\n",
       "      <td>0</td>\n",
       "      <td>0</td>\n",
       "      <td>0</td>\n",
       "      <td>1</td>\n",
       "      <td>0</td>\n",
       "      <td>0</td>\n",
       "    </tr>\n",
       "    <tr>\n",
       "      <th>4</th>\n",
       "      <td>0.37</td>\n",
       "      <td>0.52</td>\n",
       "      <td>2</td>\n",
       "      <td>159</td>\n",
       "      <td>3</td>\n",
       "      <td>0</td>\n",
       "      <td>1</td>\n",
       "      <td>0</td>\n",
       "      <td>1</td>\n",
       "      <td>0</td>\n",
       "      <td>0</td>\n",
       "      <td>0</td>\n",
       "      <td>0</td>\n",
       "      <td>0</td>\n",
       "      <td>0</td>\n",
       "      <td>0</td>\n",
       "      <td>1</td>\n",
       "      <td>0</td>\n",
       "      <td>0</td>\n",
       "    </tr>\n",
       "    <tr>\n",
       "      <th>...</th>\n",
       "      <td>...</td>\n",
       "      <td>...</td>\n",
       "      <td>...</td>\n",
       "      <td>...</td>\n",
       "      <td>...</td>\n",
       "      <td>...</td>\n",
       "      <td>...</td>\n",
       "      <td>...</td>\n",
       "      <td>...</td>\n",
       "      <td>...</td>\n",
       "      <td>...</td>\n",
       "      <td>...</td>\n",
       "      <td>...</td>\n",
       "      <td>...</td>\n",
       "      <td>...</td>\n",
       "      <td>...</td>\n",
       "      <td>...</td>\n",
       "      <td>...</td>\n",
       "      <td>...</td>\n",
       "    </tr>\n",
       "    <tr>\n",
       "      <th>14994</th>\n",
       "      <td>0.40</td>\n",
       "      <td>0.57</td>\n",
       "      <td>2</td>\n",
       "      <td>151</td>\n",
       "      <td>3</td>\n",
       "      <td>0</td>\n",
       "      <td>1</td>\n",
       "      <td>0</td>\n",
       "      <td>1</td>\n",
       "      <td>0</td>\n",
       "      <td>0</td>\n",
       "      <td>0</td>\n",
       "      <td>0</td>\n",
       "      <td>0</td>\n",
       "      <td>0</td>\n",
       "      <td>0</td>\n",
       "      <td>0</td>\n",
       "      <td>1</td>\n",
       "      <td>0</td>\n",
       "    </tr>\n",
       "    <tr>\n",
       "      <th>14995</th>\n",
       "      <td>0.37</td>\n",
       "      <td>0.48</td>\n",
       "      <td>2</td>\n",
       "      <td>160</td>\n",
       "      <td>3</td>\n",
       "      <td>0</td>\n",
       "      <td>1</td>\n",
       "      <td>0</td>\n",
       "      <td>1</td>\n",
       "      <td>0</td>\n",
       "      <td>0</td>\n",
       "      <td>0</td>\n",
       "      <td>0</td>\n",
       "      <td>0</td>\n",
       "      <td>0</td>\n",
       "      <td>0</td>\n",
       "      <td>0</td>\n",
       "      <td>1</td>\n",
       "      <td>0</td>\n",
       "    </tr>\n",
       "    <tr>\n",
       "      <th>14996</th>\n",
       "      <td>0.37</td>\n",
       "      <td>0.53</td>\n",
       "      <td>2</td>\n",
       "      <td>143</td>\n",
       "      <td>3</td>\n",
       "      <td>0</td>\n",
       "      <td>1</td>\n",
       "      <td>0</td>\n",
       "      <td>1</td>\n",
       "      <td>0</td>\n",
       "      <td>0</td>\n",
       "      <td>0</td>\n",
       "      <td>0</td>\n",
       "      <td>0</td>\n",
       "      <td>0</td>\n",
       "      <td>0</td>\n",
       "      <td>0</td>\n",
       "      <td>1</td>\n",
       "      <td>0</td>\n",
       "    </tr>\n",
       "    <tr>\n",
       "      <th>14997</th>\n",
       "      <td>0.11</td>\n",
       "      <td>0.96</td>\n",
       "      <td>6</td>\n",
       "      <td>280</td>\n",
       "      <td>4</td>\n",
       "      <td>0</td>\n",
       "      <td>1</td>\n",
       "      <td>0</td>\n",
       "      <td>1</td>\n",
       "      <td>0</td>\n",
       "      <td>0</td>\n",
       "      <td>0</td>\n",
       "      <td>0</td>\n",
       "      <td>0</td>\n",
       "      <td>0</td>\n",
       "      <td>0</td>\n",
       "      <td>0</td>\n",
       "      <td>1</td>\n",
       "      <td>0</td>\n",
       "    </tr>\n",
       "    <tr>\n",
       "      <th>14998</th>\n",
       "      <td>0.37</td>\n",
       "      <td>0.52</td>\n",
       "      <td>2</td>\n",
       "      <td>158</td>\n",
       "      <td>3</td>\n",
       "      <td>0</td>\n",
       "      <td>1</td>\n",
       "      <td>0</td>\n",
       "      <td>1</td>\n",
       "      <td>0</td>\n",
       "      <td>0</td>\n",
       "      <td>0</td>\n",
       "      <td>0</td>\n",
       "      <td>0</td>\n",
       "      <td>0</td>\n",
       "      <td>0</td>\n",
       "      <td>0</td>\n",
       "      <td>1</td>\n",
       "      <td>0</td>\n",
       "    </tr>\n",
       "  </tbody>\n",
       "</table>\n",
       "<p>14999 rows × 19 columns</p>\n",
       "</div>"
      ],
      "text/plain": [
       "       satisfaction_level  last_evaluation  number_project  \\\n",
       "0                    0.38             0.53               2   \n",
       "1                    0.80             0.86               5   \n",
       "2                    0.11             0.88               7   \n",
       "3                    0.72             0.87               5   \n",
       "4                    0.37             0.52               2   \n",
       "...                   ...              ...             ...   \n",
       "14994                0.40             0.57               2   \n",
       "14995                0.37             0.48               2   \n",
       "14996                0.37             0.53               2   \n",
       "14997                0.11             0.96               6   \n",
       "14998                0.37             0.52               2   \n",
       "\n",
       "       average_montly_hours  time_spend_company  Work_accident  left  \\\n",
       "0                       157                   3              0     1   \n",
       "1                       262                   6              0     1   \n",
       "2                       272                   4              0     1   \n",
       "3                       223                   5              0     1   \n",
       "4                       159                   3              0     1   \n",
       "...                     ...                 ...            ...   ...   \n",
       "14994                   151                   3              0     1   \n",
       "14995                   160                   3              0     1   \n",
       "14996                   143                   3              0     1   \n",
       "14997                   280                   4              0     1   \n",
       "14998                   158                   3              0     1   \n",
       "\n",
       "       promotion_last_5years  low  medium  RandD  accounting  hr  management  \\\n",
       "0                          0    1       0      0           0   0           0   \n",
       "1                          0    0       1      0           0   0           0   \n",
       "2                          0    0       1      0           0   0           0   \n",
       "3                          0    1       0      0           0   0           0   \n",
       "4                          0    1       0      0           0   0           0   \n",
       "...                      ...  ...     ...    ...         ...  ..         ...   \n",
       "14994                      0    1       0      0           0   0           0   \n",
       "14995                      0    1       0      0           0   0           0   \n",
       "14996                      0    1       0      0           0   0           0   \n",
       "14997                      0    1       0      0           0   0           0   \n",
       "14998                      0    1       0      0           0   0           0   \n",
       "\n",
       "       marketing  product_mng  sales  support  technical  \n",
       "0              0            0      1        0          0  \n",
       "1              0            0      1        0          0  \n",
       "2              0            0      1        0          0  \n",
       "3              0            0      1        0          0  \n",
       "4              0            0      1        0          0  \n",
       "...          ...          ...    ...      ...        ...  \n",
       "14994          0            0      0        1          0  \n",
       "14995          0            0      0        1          0  \n",
       "14996          0            0      0        1          0  \n",
       "14997          0            0      0        1          0  \n",
       "14998          0            0      0        1          0  \n",
       "\n",
       "[14999 rows x 19 columns]"
      ]
     },
     "execution_count": 16,
     "metadata": {},
     "output_type": "execute_result"
    }
   ],
   "source": [
    "data"
   ]
  },
  {
   "cell_type": "markdown",
   "id": "e01488aa",
   "metadata": {},
   "source": [
    "## Splitting Of Data"
   ]
  },
  {
   "cell_type": "code",
   "execution_count": 17,
   "id": "c905de42",
   "metadata": {},
   "outputs": [
    {
     "data": {
      "text/plain": [
       "array([[0.38, 0.53, 2.  , ..., 1.  , 0.  , 0.  ],\n",
       "       [0.8 , 0.86, 5.  , ..., 1.  , 0.  , 0.  ],\n",
       "       [0.11, 0.88, 7.  , ..., 1.  , 0.  , 0.  ],\n",
       "       ...,\n",
       "       [0.37, 0.53, 2.  , ..., 0.  , 1.  , 0.  ],\n",
       "       [0.11, 0.96, 6.  , ..., 0.  , 1.  , 0.  ],\n",
       "       [0.37, 0.52, 2.  , ..., 0.  , 1.  , 0.  ]])"
      ]
     },
     "execution_count": 17,
     "metadata": {},
     "output_type": "execute_result"
    }
   ],
   "source": [
    "x=data.drop('left', axis=1).values\n",
    "x"
   ]
  },
  {
   "cell_type": "code",
   "execution_count": 18,
   "id": "eb247bfc",
   "metadata": {},
   "outputs": [
    {
     "data": {
      "text/plain": [
       "array([1, 1, 1, ..., 1, 1, 1], dtype=int64)"
      ]
     },
     "execution_count": 18,
     "metadata": {},
     "output_type": "execute_result"
    }
   ],
   "source": [
    "y=data['left'].values\n",
    "y"
   ]
  },
  {
   "cell_type": "code",
   "execution_count": 19,
   "id": "038b2402",
   "metadata": {},
   "outputs": [],
   "source": [
    "from sklearn.model_selection import train_test_split"
   ]
  },
  {
   "cell_type": "code",
   "execution_count": 20,
   "id": "f767c181",
   "metadata": {},
   "outputs": [],
   "source": [
    "#random state to prserve the order after splitting\n",
    "x_train,x_test,y_train,y_test=train_test_split(x,y,test_size=0.3,random_state=1)"
   ]
  },
  {
   "cell_type": "markdown",
   "id": "25de4e19",
   "metadata": {},
   "source": [
    "# Logistic Regression"
   ]
  },
  {
   "cell_type": "code",
   "execution_count": 21,
   "id": "27640f2a",
   "metadata": {},
   "outputs": [
    {
     "data": {
      "text/plain": [
       "LogisticRegression()"
      ]
     },
     "execution_count": 21,
     "metadata": {},
     "output_type": "execute_result"
    }
   ],
   "source": [
    "reg=LogisticRegression()\n",
    "reg.fit(x_train,y_train)"
   ]
  },
  {
   "cell_type": "code",
   "execution_count": 22,
   "id": "1e292679",
   "metadata": {},
   "outputs": [
    {
     "data": {
      "text/plain": [
       "array([0, 0, 0, ..., 0, 0, 0], dtype=int64)"
      ]
     },
     "execution_count": 22,
     "metadata": {},
     "output_type": "execute_result"
    }
   ],
   "source": [
    "y_pred=reg.predict(x_test)\n",
    "y_pred"
   ]
  },
  {
   "cell_type": "code",
   "execution_count": 23,
   "id": "8aebc9c3",
   "metadata": {},
   "outputs": [
    {
     "data": {
      "text/plain": [
       "array([0, 0, 0, ..., 0, 0, 1], dtype=int64)"
      ]
     },
     "execution_count": 23,
     "metadata": {},
     "output_type": "execute_result"
    }
   ],
   "source": [
    "y_test"
   ]
  },
  {
   "cell_type": "code",
   "execution_count": 24,
   "id": "6e5d0a88",
   "metadata": {},
   "outputs": [],
   "source": [
    "#by giving any value in random state we are telling to hold the order\n",
    "model=LogisticRegression(solver='liblinear',random_state=0).fit(x,y)"
   ]
  },
  {
   "cell_type": "code",
   "execution_count": 25,
   "id": "10e0b146",
   "metadata": {},
   "outputs": [
    {
     "data": {
      "text/plain": [
       "array([1, 0, 1, ..., 1, 1, 1], dtype=int64)"
      ]
     },
     "execution_count": 25,
     "metadata": {},
     "output_type": "execute_result"
    }
   ],
   "source": [
    "model.predict(x)"
   ]
  },
  {
   "cell_type": "markdown",
   "id": "5995fce0",
   "metadata": {},
   "source": [
    "## Confussion Matrix"
   ]
  },
  {
   "cell_type": "code",
   "execution_count": 26,
   "id": "32645cb5",
   "metadata": {},
   "outputs": [
    {
     "data": {
      "text/plain": [
       "array([[3125,  291],\n",
       "       [ 646,  438]], dtype=int64)"
      ]
     },
     "execution_count": 26,
     "metadata": {},
     "output_type": "execute_result"
    }
   ],
   "source": [
    "#confusion matrix is used to compare the classifiication algorithm\n",
    "from sklearn.metrics import confusion_matrix,accuracy_score\n",
    "cm=confusion_matrix(y_test,y_pred)\n",
    "cm"
   ]
  },
  {
   "cell_type": "code",
   "execution_count": 27,
   "id": "56326945",
   "metadata": {},
   "outputs": [],
   "source": [
    "#so by using this algorithm we get the values 649 +294 value predicted wron"
   ]
  },
  {
   "cell_type": "code",
   "execution_count": 28,
   "id": "1e9cb07b",
   "metadata": {},
   "outputs": [
    {
     "data": {
      "text/plain": [
       "0.7917777777777778"
      ]
     },
     "execution_count": 28,
     "metadata": {},
     "output_type": "execute_result"
    }
   ],
   "source": [
    "accuracy_score(y_test,y_pred)"
   ]
  },
  {
   "cell_type": "code",
   "execution_count": 29,
   "id": "34230b49",
   "metadata": {},
   "outputs": [
    {
     "data": {
      "text/plain": [
       "0.7917777777777778"
      ]
     },
     "execution_count": 29,
     "metadata": {},
     "output_type": "execute_result"
    }
   ],
   "source": [
    "accuracy_score1=accuracy_score(y_test, y_pred)\n",
    "accuracy_score1"
   ]
  },
  {
   "cell_type": "markdown",
   "id": "da66d361",
   "metadata": {},
   "source": [
    "# Decision Tree"
   ]
  },
  {
   "cell_type": "code",
   "execution_count": 30,
   "id": "f6a0895d",
   "metadata": {},
   "outputs": [],
   "source": [
    "from sklearn.tree import DecisionTreeClassifier, plot_tree"
   ]
  },
  {
   "cell_type": "code",
   "execution_count": 31,
   "id": "f6cbf461",
   "metadata": {},
   "outputs": [],
   "source": [
    "#creating object\n",
    "dc=DecisionTreeClassifier(random_state=0)"
   ]
  },
  {
   "cell_type": "code",
   "execution_count": 32,
   "id": "8b1d4c67",
   "metadata": {},
   "outputs": [
    {
     "data": {
      "text/plain": [
       "DecisionTreeClassifier(random_state=0)"
      ]
     },
     "execution_count": 32,
     "metadata": {},
     "output_type": "execute_result"
    }
   ],
   "source": [
    "dc.fit(x_train,y_train)"
   ]
  },
  {
   "cell_type": "code",
   "execution_count": 33,
   "id": "2bbbfd54",
   "metadata": {},
   "outputs": [
    {
     "data": {
      "text/plain": [
       "array([0, 0, 0, ..., 0, 0, 1], dtype=int64)"
      ]
     },
     "execution_count": 33,
     "metadata": {},
     "output_type": "execute_result"
    }
   ],
   "source": [
    "y_pred2=dc.predict(x_test)\n",
    "y_pred2"
   ]
  },
  {
   "cell_type": "code",
   "execution_count": 34,
   "id": "8695d5db",
   "metadata": {},
   "outputs": [
    {
     "data": {
      "text/plain": [
       "array([0, 0, 0, ..., 0, 0, 1], dtype=int64)"
      ]
     },
     "execution_count": 34,
     "metadata": {},
     "output_type": "execute_result"
    }
   ],
   "source": [
    "y_test"
   ]
  },
  {
   "cell_type": "code",
   "execution_count": 35,
   "id": "4180b712",
   "metadata": {},
   "outputs": [
    {
     "data": {
      "text/plain": [
       "array([[3367,   49],\n",
       "       [  41, 1043]], dtype=int64)"
      ]
     },
     "execution_count": 35,
     "metadata": {},
     "output_type": "execute_result"
    }
   ],
   "source": [
    "from sklearn.metrics import confusion_matrix, accuracy_score\n",
    "cm2=confusion_matrix(y_test,y_pred2)\n",
    "cm2"
   ]
  },
  {
   "cell_type": "code",
   "execution_count": 36,
   "id": "37ce78be",
   "metadata": {},
   "outputs": [
    {
     "data": {
      "text/plain": [
       "0.98"
      ]
     },
     "execution_count": 36,
     "metadata": {},
     "output_type": "execute_result"
    }
   ],
   "source": [
    "accuracy_score2=accuracy_score(y_test, y_pred2)\n",
    "accuracy_score2"
   ]
  },
  {
   "cell_type": "code",
   "execution_count": 37,
   "id": "09b31944",
   "metadata": {},
   "outputs": [
    {
     "data": {
      "text/plain": [
       "<Figure size 1080x504 with 0 Axes>"
      ]
     },
     "execution_count": 37,
     "metadata": {},
     "output_type": "execute_result"
    },
    {
     "data": {
      "text/plain": [
       "<Figure size 1080x504 with 0 Axes>"
      ]
     },
     "metadata": {},
     "output_type": "display_data"
    }
   ],
   "source": [
    "#visualizing decision tree\n",
    "\n",
    "df=dc.fit(x_test,y_pred2)\n",
    "plt.figure(figsize=(15,7))"
   ]
  },
  {
   "cell_type": "code",
   "execution_count": 38,
   "id": "e5d434c9",
   "metadata": {},
   "outputs": [
    {
     "data": {
      "text/plain": [
       "[Text(154.44, 211.4, 'X[0] <= 0.465\\ngini = 0.368\\nsamples = 4500\\nvalue = [3408, 1092]'),\n",
       " Text(58.792500000000004, 199.32, 'X[2] <= 2.5\\ngini = 0.477\\nsamples = 1272\\nvalue = [500, 772]'),\n",
       " Text(15.66, 187.24, 'X[1] <= 0.575\\ngini = 0.211\\nsamples = 501\\nvalue = [60, 441]'),\n",
       " Text(7.5600000000000005, 175.16, 'X[1] <= 0.44\\ngini = 0.102\\nsamples = 464\\nvalue = [25, 439]'),\n",
       " Text(5.4, 163.07999999999998, 'gini = 0.0\\nsamples = 14\\nvalue = [14, 0]'),\n",
       " Text(9.72, 163.07999999999998, 'X[0] <= 0.34\\ngini = 0.048\\nsamples = 450\\nvalue = [11, 439]'),\n",
       " Text(4.32, 151.0, 'X[4] <= 4.5\\ngini = 0.245\\nsamples = 7\\nvalue = [6, 1]'),\n",
       " Text(2.16, 138.92000000000002, 'gini = 0.0\\nsamples = 5\\nvalue = [5, 0]'),\n",
       " Text(6.48, 138.92000000000002, 'X[15] <= 0.5\\ngini = 0.5\\nsamples = 2\\nvalue = [1, 1]'),\n",
       " Text(4.32, 126.84, 'gini = 0.0\\nsamples = 1\\nvalue = [1, 0]'),\n",
       " Text(8.64, 126.84, 'gini = 0.0\\nsamples = 1\\nvalue = [0, 1]'),\n",
       " Text(15.120000000000001, 151.0, 'X[3] <= 125.0\\ngini = 0.022\\nsamples = 443\\nvalue = [5, 438]'),\n",
       " Text(12.96, 138.92000000000002, 'gini = 0.0\\nsamples = 2\\nvalue = [2, 0]'),\n",
       " Text(17.28, 138.92000000000002, 'X[3] <= 166.0\\ngini = 0.014\\nsamples = 441\\nvalue = [3, 438]'),\n",
       " Text(12.96, 126.84, 'X[0] <= 0.375\\ngini = 0.005\\nsamples = 438\\nvalue = [1, 437]'),\n",
       " Text(10.8, 114.75999999999999, 'X[3] <= 152.5\\ngini = 0.023\\nsamples = 86\\nvalue = [1, 85]'),\n",
       " Text(8.64, 102.67999999999999, 'gini = 0.0\\nsamples = 57\\nvalue = [0, 57]'),\n",
       " Text(12.96, 102.67999999999999, 'X[3] <= 153.5\\ngini = 0.067\\nsamples = 29\\nvalue = [1, 28]'),\n",
       " Text(10.8, 90.6, 'X[7] <= 0.5\\ngini = 0.444\\nsamples = 3\\nvalue = [1, 2]'),\n",
       " Text(8.64, 78.52000000000001, 'gini = 0.0\\nsamples = 1\\nvalue = [1, 0]'),\n",
       " Text(12.96, 78.52000000000001, 'gini = 0.0\\nsamples = 2\\nvalue = [0, 2]'),\n",
       " Text(15.120000000000001, 90.6, 'gini = 0.0\\nsamples = 26\\nvalue = [0, 26]'),\n",
       " Text(15.120000000000001, 114.75999999999999, 'gini = 0.0\\nsamples = 352\\nvalue = [0, 352]'),\n",
       " Text(21.6, 126.84, 'X[3] <= 229.0\\ngini = 0.444\\nsamples = 3\\nvalue = [2, 1]'),\n",
       " Text(19.44, 114.75999999999999, 'gini = 0.0\\nsamples = 2\\nvalue = [2, 0]'),\n",
       " Text(23.76, 114.75999999999999, 'gini = 0.0\\nsamples = 1\\nvalue = [0, 1]'),\n",
       " Text(23.76, 175.16, 'X[3] <= 280.0\\ngini = 0.102\\nsamples = 37\\nvalue = [35, 2]'),\n",
       " Text(21.6, 163.07999999999998, 'X[4] <= 5.5\\ngini = 0.054\\nsamples = 36\\nvalue = [35, 1]'),\n",
       " Text(19.44, 151.0, 'gini = 0.0\\nsamples = 33\\nvalue = [33, 0]'),\n",
       " Text(23.76, 151.0, 'X[1] <= 0.685\\ngini = 0.444\\nsamples = 3\\nvalue = [2, 1]'),\n",
       " Text(21.6, 138.92000000000002, 'gini = 0.0\\nsamples = 1\\nvalue = [0, 1]'),\n",
       " Text(25.92, 138.92000000000002, 'gini = 0.0\\nsamples = 2\\nvalue = [2, 0]'),\n",
       " Text(25.92, 163.07999999999998, 'gini = 0.0\\nsamples = 1\\nvalue = [0, 1]'),\n",
       " Text(101.92500000000001, 187.24, 'X[0] <= 0.115\\ngini = 0.49\\nsamples = 771\\nvalue = [440, 331]'),\n",
       " Text(99.765, 175.16, 'gini = 0.0\\nsamples = 285\\nvalue = [0, 285]'),\n",
       " Text(104.08500000000001, 175.16, 'X[2] <= 6.5\\ngini = 0.171\\nsamples = 486\\nvalue = [440, 46]'),\n",
       " Text(101.92500000000001, 163.07999999999998, 'X[1] <= 0.995\\ngini = 0.15\\nsamples = 479\\nvalue = [440, 39]'),\n",
       " Text(80.73, 151.0, 'X[3] <= 290.5\\ngini = 0.127\\nsamples = 469\\nvalue = [437, 32]'),\n",
       " Text(78.57000000000001, 138.92000000000002, 'X[3] <= 270.5\\ngini = 0.117\\nsamples = 466\\nvalue = [437, 29]'),\n",
       " Text(42.660000000000004, 126.84, 'X[3] <= 97.5\\ngini = 0.093\\nsamples = 430\\nvalue = [409, 21]'),\n",
       " Text(28.080000000000002, 114.75999999999999, 'X[4] <= 4.5\\ngini = 0.5\\nsamples = 2\\nvalue = [1, 1]'),\n",
       " Text(25.92, 102.67999999999999, 'gini = 0.0\\nsamples = 1\\nvalue = [0, 1]'),\n",
       " Text(30.240000000000002, 102.67999999999999, 'gini = 0.0\\nsamples = 1\\nvalue = [1, 0]'),\n",
       " Text(57.24, 114.75999999999999, 'X[1] <= 0.735\\ngini = 0.089\\nsamples = 428\\nvalue = [408, 20]'),\n",
       " Text(34.56, 102.67999999999999, 'X[17] <= 0.5\\ngini = 0.05\\nsamples = 273\\nvalue = [266, 7]'),\n",
       " Text(25.92, 90.6, 'X[3] <= 142.0\\ngini = 0.026\\nsamples = 226\\nvalue = [223, 3]'),\n",
       " Text(21.6, 78.52000000000001, 'X[3] <= 140.5\\ngini = 0.095\\nsamples = 40\\nvalue = [38, 2]'),\n",
       " Text(19.44, 66.44, 'X[16] <= 0.5\\ngini = 0.05\\nsamples = 39\\nvalue = [38, 1]'),\n",
       " Text(17.28, 54.359999999999985, 'gini = 0.0\\nsamples = 33\\nvalue = [33, 0]'),\n",
       " Text(21.6, 54.359999999999985, 'X[4] <= 4.5\\ngini = 0.278\\nsamples = 6\\nvalue = [5, 1]'),\n",
       " Text(19.44, 42.28, 'gini = 0.0\\nsamples = 5\\nvalue = [5, 0]'),\n",
       " Text(23.76, 42.28, 'gini = 0.0\\nsamples = 1\\nvalue = [0, 1]'),\n",
       " Text(23.76, 66.44, 'gini = 0.0\\nsamples = 1\\nvalue = [0, 1]'),\n",
       " Text(30.240000000000002, 78.52000000000001, 'X[0] <= 0.145\\ngini = 0.011\\nsamples = 186\\nvalue = [185, 1]'),\n",
       " Text(28.080000000000002, 66.44, 'X[11] <= 0.5\\ngini = 0.117\\nsamples = 16\\nvalue = [15, 1]'),\n",
       " Text(25.92, 54.359999999999985, 'gini = 0.0\\nsamples = 15\\nvalue = [15, 0]'),\n",
       " Text(30.240000000000002, 54.359999999999985, 'gini = 0.0\\nsamples = 1\\nvalue = [0, 1]'),\n",
       " Text(32.400000000000006, 66.44, 'gini = 0.0\\nsamples = 170\\nvalue = [170, 0]'),\n",
       " Text(43.2, 90.6, 'X[0] <= 0.145\\ngini = 0.156\\nsamples = 47\\nvalue = [43, 4]'),\n",
       " Text(38.88, 78.52000000000001, 'X[2] <= 3.5\\ngini = 0.5\\nsamples = 2\\nvalue = [1, 1]'),\n",
       " Text(36.72, 66.44, 'gini = 0.0\\nsamples = 1\\nvalue = [1, 0]'),\n",
       " Text(41.040000000000006, 66.44, 'gini = 0.0\\nsamples = 1\\nvalue = [0, 1]'),\n",
       " Text(47.52, 78.52000000000001, 'X[3] <= 198.0\\ngini = 0.124\\nsamples = 45\\nvalue = [42, 3]'),\n",
       " Text(45.36, 66.44, 'gini = 0.0\\nsamples = 31\\nvalue = [31, 0]'),\n",
       " Text(49.68000000000001, 66.44, 'X[3] <= 216.0\\ngini = 0.337\\nsamples = 14\\nvalue = [11, 3]'),\n",
       " Text(47.52, 54.359999999999985, 'X[0] <= 0.245\\ngini = 0.375\\nsamples = 4\\nvalue = [1, 3]'),\n",
       " Text(45.36, 42.28, 'gini = 0.0\\nsamples = 1\\nvalue = [1, 0]'),\n",
       " Text(49.68000000000001, 42.28, 'gini = 0.0\\nsamples = 3\\nvalue = [0, 3]'),\n",
       " Text(51.84, 54.359999999999985, 'gini = 0.0\\nsamples = 10\\nvalue = [10, 0]'),\n",
       " Text(79.92, 102.67999999999999, 'X[0] <= 0.305\\ngini = 0.154\\nsamples = 155\\nvalue = [142, 13]'),\n",
       " Text(68.04, 90.6, 'X[11] <= 0.5\\ngini = 0.07\\nsamples = 110\\nvalue = [106, 4]'),\n",
       " Text(62.64, 78.52000000000001, 'X[4] <= 3.5\\ngini = 0.054\\nsamples = 108\\nvalue = [105, 3]'),\n",
       " Text(58.32000000000001, 66.44, 'X[10] <= 0.5\\ngini = 0.165\\nsamples = 22\\nvalue = [20, 2]'),\n",
       " Text(56.160000000000004, 54.359999999999985, 'X[3] <= 231.0\\ngini = 0.091\\nsamples = 21\\nvalue = [20, 1]'),\n",
       " Text(54.0, 42.28, 'gini = 0.0\\nsamples = 17\\nvalue = [17, 0]'),\n",
       " Text(58.32000000000001, 42.28, 'X[15] <= 0.5\\ngini = 0.375\\nsamples = 4\\nvalue = [3, 1]'),\n",
       " Text(56.160000000000004, 30.19999999999999, 'gini = 0.0\\nsamples = 3\\nvalue = [3, 0]'),\n",
       " Text(60.480000000000004, 30.19999999999999, 'gini = 0.0\\nsamples = 1\\nvalue = [0, 1]'),\n",
       " Text(60.480000000000004, 54.359999999999985, 'gini = 0.0\\nsamples = 1\\nvalue = [0, 1]'),\n",
       " Text(66.96000000000001, 66.44, 'X[17] <= 0.5\\ngini = 0.023\\nsamples = 86\\nvalue = [85, 1]'),\n",
       " Text(64.80000000000001, 54.359999999999985, 'gini = 0.0\\nsamples = 69\\nvalue = [69, 0]'),\n",
       " Text(69.12, 54.359999999999985, 'X[2] <= 3.5\\ngini = 0.111\\nsamples = 17\\nvalue = [16, 1]'),\n",
       " Text(66.96000000000001, 42.28, 'X[3] <= 174.5\\ngini = 0.444\\nsamples = 3\\nvalue = [2, 1]'),\n",
       " Text(64.80000000000001, 30.19999999999999, 'gini = 0.0\\nsamples = 2\\nvalue = [2, 0]'),\n",
       " Text(69.12, 30.19999999999999, 'gini = 0.0\\nsamples = 1\\nvalue = [0, 1]'),\n",
       " Text(71.28, 42.28, 'gini = 0.0\\nsamples = 14\\nvalue = [14, 0]'),\n",
       " Text(73.44, 78.52000000000001, 'X[1] <= 0.905\\ngini = 0.5\\nsamples = 2\\nvalue = [1, 1]'),\n",
       " Text(71.28, 66.44, 'gini = 0.0\\nsamples = 1\\nvalue = [0, 1]'),\n",
       " Text(75.60000000000001, 66.44, 'gini = 0.0\\nsamples = 1\\nvalue = [1, 0]'),\n",
       " Text(91.80000000000001, 90.6, 'X[0] <= 0.345\\ngini = 0.32\\nsamples = 45\\nvalue = [36, 9]'),\n",
       " Text(84.24000000000001, 78.52000000000001, 'X[3] <= 179.5\\ngini = 0.49\\nsamples = 14\\nvalue = [8, 6]'),\n",
       " Text(79.92, 66.44, 'X[0] <= 0.335\\ngini = 0.408\\nsamples = 7\\nvalue = [2, 5]'),\n",
       " Text(77.76, 54.359999999999985, 'X[4] <= 3.5\\ngini = 0.444\\nsamples = 3\\nvalue = [2, 1]'),\n",
       " Text(75.60000000000001, 42.28, 'gini = 0.0\\nsamples = 1\\nvalue = [0, 1]'),\n",
       " Text(79.92, 42.28, 'gini = 0.0\\nsamples = 2\\nvalue = [2, 0]'),\n",
       " Text(82.08000000000001, 54.359999999999985, 'gini = 0.0\\nsamples = 4\\nvalue = [0, 4]'),\n",
       " Text(88.56, 66.44, 'X[16] <= 0.5\\ngini = 0.245\\nsamples = 7\\nvalue = [6, 1]'),\n",
       " Text(86.4, 54.359999999999985, 'gini = 0.0\\nsamples = 6\\nvalue = [6, 0]'),\n",
       " Text(90.72, 54.359999999999985, 'gini = 0.0\\nsamples = 1\\nvalue = [0, 1]'),\n",
       " Text(99.36000000000001, 78.52000000000001, 'X[0] <= 0.455\\ngini = 0.175\\nsamples = 31\\nvalue = [28, 3]'),\n",
       " Text(97.2, 66.44, 'X[1] <= 0.755\\ngini = 0.124\\nsamples = 30\\nvalue = [28, 2]'),\n",
       " Text(95.04, 54.359999999999985, 'X[4] <= 3.5\\ngini = 0.444\\nsamples = 6\\nvalue = [4, 2]'),\n",
       " Text(92.88000000000001, 42.28, 'gini = 0.0\\nsamples = 3\\nvalue = [3, 0]'),\n",
       " Text(97.2, 42.28, 'X[3] <= 237.0\\ngini = 0.444\\nsamples = 3\\nvalue = [1, 2]'),\n",
       " Text(95.04, 30.19999999999999, 'gini = 0.0\\nsamples = 2\\nvalue = [0, 2]'),\n",
       " Text(99.36000000000001, 30.19999999999999, 'gini = 0.0\\nsamples = 1\\nvalue = [1, 0]'),\n",
       " Text(99.36000000000001, 54.359999999999985, 'gini = 0.0\\nsamples = 24\\nvalue = [24, 0]'),\n",
       " Text(101.52000000000001, 66.44, 'gini = 0.0\\nsamples = 1\\nvalue = [0, 1]'),\n",
       " Text(114.48, 126.84, 'X[3] <= 277.5\\ngini = 0.346\\nsamples = 36\\nvalue = [28, 8]'),\n",
       " Text(110.16000000000001, 114.75999999999999, 'X[0] <= 0.355\\ngini = 0.498\\nsamples = 15\\nvalue = [8, 7]'),\n",
       " Text(108.0, 102.67999999999999, 'X[1] <= 0.465\\ngini = 0.444\\nsamples = 12\\nvalue = [8, 4]'),\n",
       " Text(105.84, 90.6, 'gini = 0.0\\nsamples = 2\\nvalue = [0, 2]'),\n",
       " Text(110.16000000000001, 90.6, 'X[2] <= 5.5\\ngini = 0.32\\nsamples = 10\\nvalue = [8, 2]'),\n",
       " Text(108.0, 78.52000000000001, 'X[5] <= 0.5\\ngini = 0.198\\nsamples = 9\\nvalue = [8, 1]'),\n",
       " Text(105.84, 66.44, 'gini = 0.0\\nsamples = 8\\nvalue = [8, 0]'),\n",
       " Text(110.16000000000001, 66.44, 'gini = 0.0\\nsamples = 1\\nvalue = [0, 1]'),\n",
       " Text(112.32000000000001, 78.52000000000001, 'gini = 0.0\\nsamples = 1\\nvalue = [0, 1]'),\n",
       " Text(112.32000000000001, 102.67999999999999, 'gini = 0.0\\nsamples = 3\\nvalue = [0, 3]'),\n",
       " Text(118.80000000000001, 114.75999999999999, 'X[1] <= 0.53\\ngini = 0.091\\nsamples = 21\\nvalue = [20, 1]'),\n",
       " Text(116.64000000000001, 102.67999999999999, 'X[17] <= 0.5\\ngini = 0.444\\nsamples = 3\\nvalue = [2, 1]'),\n",
       " Text(114.48, 90.6, 'gini = 0.0\\nsamples = 2\\nvalue = [2, 0]'),\n",
       " Text(118.80000000000001, 90.6, 'gini = 0.0\\nsamples = 1\\nvalue = [0, 1]'),\n",
       " Text(120.96000000000001, 102.67999999999999, 'gini = 0.0\\nsamples = 18\\nvalue = [18, 0]'),\n",
       " Text(82.89, 138.92000000000002, 'gini = 0.0\\nsamples = 3\\nvalue = [0, 3]'),\n",
       " Text(123.12, 151.0, 'X[2] <= 5.5\\ngini = 0.42\\nsamples = 10\\nvalue = [3, 7]'),\n",
       " Text(120.96000000000001, 138.92000000000002, 'X[17] <= 0.5\\ngini = 0.219\\nsamples = 8\\nvalue = [1, 7]'),\n",
       " Text(118.80000000000001, 126.84, 'gini = 0.0\\nsamples = 7\\nvalue = [0, 7]'),\n",
       " Text(123.12, 126.84, 'gini = 0.0\\nsamples = 1\\nvalue = [1, 0]'),\n",
       " Text(125.28, 138.92000000000002, 'gini = 0.0\\nsamples = 2\\nvalue = [2, 0]'),\n",
       " Text(106.245, 163.07999999999998, 'gini = 0.0\\nsamples = 7\\nvalue = [0, 7]'),\n",
       " Text(250.0875, 199.32, 'X[4] <= 4.5\\ngini = 0.179\\nsamples = 3228\\nvalue = [2908, 320]'),\n",
       " Text(199.125, 187.24, 'X[3] <= 290.0\\ngini = 0.029\\nsamples = 2629\\nvalue = [2590, 39]'),\n",
       " Text(196.965, 175.16, 'X[2] <= 6.5\\ngini = 0.027\\nsamples = 2626\\nvalue = [2590, 36]'),\n",
       " Text(194.805, 163.07999999999998, 'X[4] <= 3.5\\ngini = 0.026\\nsamples = 2625\\nvalue = [2590, 35]'),\n",
       " Text(152.55, 151.0, 'X[2] <= 2.5\\ngini = 0.013\\nsamples = 2230\\nvalue = [2215, 15]'),\n",
       " Text(129.60000000000002, 138.92000000000002, 'X[3] <= 104.0\\ngini = 0.079\\nsamples = 122\\nvalue = [117, 5]'),\n",
       " Text(127.44000000000001, 126.84, 'gini = 0.0\\nsamples = 1\\nvalue = [0, 1]'),\n",
       " Text(131.76000000000002, 126.84, 'X[3] <= 251.0\\ngini = 0.064\\nsamples = 121\\nvalue = [117, 4]'),\n",
       " Text(129.60000000000002, 114.75999999999999, 'gini = 0.0\\nsamples = 101\\nvalue = [101, 0]'),\n",
       " Text(133.92000000000002, 114.75999999999999, 'X[3] <= 256.5\\ngini = 0.32\\nsamples = 20\\nvalue = [16, 4]'),\n",
       " Text(129.60000000000002, 102.67999999999999, 'X[0] <= 0.685\\ngini = 0.5\\nsamples = 6\\nvalue = [3, 3]'),\n",
       " Text(127.44000000000001, 90.6, 'gini = 0.0\\nsamples = 3\\nvalue = [0, 3]'),\n",
       " Text(131.76000000000002, 90.6, 'gini = 0.0\\nsamples = 3\\nvalue = [3, 0]'),\n",
       " Text(138.24, 102.67999999999999, 'X[1] <= 0.98\\ngini = 0.133\\nsamples = 14\\nvalue = [13, 1]'),\n",
       " Text(136.08, 90.6, 'gini = 0.0\\nsamples = 12\\nvalue = [12, 0]'),\n",
       " Text(140.4, 90.6, 'X[3] <= 267.5\\ngini = 0.5\\nsamples = 2\\nvalue = [1, 1]'),\n",
       " Text(138.24, 78.52000000000001, 'gini = 0.0\\nsamples = 1\\nvalue = [1, 0]'),\n",
       " Text(142.56, 78.52000000000001, 'gini = 0.0\\nsamples = 1\\nvalue = [0, 1]'),\n",
       " Text(175.5, 138.92000000000002, 'X[15] <= 0.5\\ngini = 0.009\\nsamples = 2108\\nvalue = [2098, 10]'),\n",
       " Text(155.52, 126.84, 'X[11] <= 0.5\\ngini = 0.003\\nsamples = 1551\\nvalue = [1549, 2]'),\n",
       " Text(149.04000000000002, 114.75999999999999, 'X[3] <= 262.5\\ngini = 0.001\\nsamples = 1451\\nvalue = [1450, 1]'),\n",
       " Text(146.88, 102.67999999999999, 'gini = 0.0\\nsamples = 1334\\nvalue = [1334, 0]'),\n",
       " Text(151.20000000000002, 102.67999999999999, 'X[3] <= 263.5\\ngini = 0.017\\nsamples = 117\\nvalue = [116, 1]'),\n",
       " Text(149.04000000000002, 90.6, 'X[1] <= 0.695\\ngini = 0.133\\nsamples = 14\\nvalue = [13, 1]'),\n",
       " Text(146.88, 78.52000000000001, 'X[0] <= 0.78\\ngini = 0.375\\nsamples = 4\\nvalue = [3, 1]'),\n",
       " Text(144.72, 66.44, 'gini = 0.0\\nsamples = 3\\nvalue = [3, 0]'),\n",
       " Text(149.04000000000002, 66.44, 'gini = 0.0\\nsamples = 1\\nvalue = [0, 1]'),\n",
       " Text(151.20000000000002, 78.52000000000001, 'gini = 0.0\\nsamples = 10\\nvalue = [10, 0]'),\n",
       " Text(153.36, 90.6, 'gini = 0.0\\nsamples = 103\\nvalue = [103, 0]'),\n",
       " Text(162.0, 114.75999999999999, 'X[0] <= 0.585\\ngini = 0.02\\nsamples = 100\\nvalue = [99, 1]'),\n",
       " Text(159.84, 102.67999999999999, 'X[0] <= 0.575\\ngini = 0.083\\nsamples = 23\\nvalue = [22, 1]'),\n",
       " Text(157.68, 90.6, 'gini = 0.0\\nsamples = 21\\nvalue = [21, 0]'),\n",
       " Text(162.0, 90.6, 'X[1] <= 0.76\\ngini = 0.5\\nsamples = 2\\nvalue = [1, 1]'),\n",
       " Text(159.84, 78.52000000000001, 'gini = 0.0\\nsamples = 1\\nvalue = [0, 1]'),\n",
       " Text(164.16000000000003, 78.52000000000001, 'gini = 0.0\\nsamples = 1\\nvalue = [1, 0]'),\n",
       " Text(164.16000000000003, 102.67999999999999, 'gini = 0.0\\nsamples = 77\\nvalue = [77, 0]'),\n",
       " Text(195.48000000000002, 126.84, 'X[1] <= 0.995\\ngini = 0.028\\nsamples = 557\\nvalue = [549, 8]'),\n",
       " Text(185.76000000000002, 114.75999999999999, 'X[2] <= 5.5\\ngini = 0.025\\nsamples = 551\\nvalue = [544, 7]'),\n",
       " Text(177.12, 102.67999999999999, 'X[3] <= 267.5\\ngini = 0.022\\nsamples = 543\\nvalue = [537, 6]'),\n",
       " Text(170.64000000000001, 90.6, 'X[7] <= 0.5\\ngini = 0.016\\nsamples = 509\\nvalue = [505, 4]'),\n",
       " Text(168.48000000000002, 78.52000000000001, 'gini = 0.0\\nsamples = 261\\nvalue = [261, 0]'),\n",
       " Text(172.8, 78.52000000000001, 'X[0] <= 0.785\\ngini = 0.032\\nsamples = 248\\nvalue = [244, 4]'),\n",
       " Text(170.64000000000001, 66.44, 'X[0] <= 0.775\\ngini = 0.053\\nsamples = 146\\nvalue = [142, 4]'),\n",
       " Text(162.0, 54.359999999999985, 'X[2] <= 3.5\\ngini = 0.041\\nsamples = 142\\nvalue = [139, 3]'),\n",
       " Text(159.84, 42.28, 'gini = 0.0\\nsamples = 58\\nvalue = [58, 0]'),\n",
       " Text(164.16000000000003, 42.28, 'X[0] <= 0.555\\ngini = 0.069\\nsamples = 84\\nvalue = [81, 3]'),\n",
       " Text(157.68, 30.19999999999999, 'X[0] <= 0.535\\ngini = 0.159\\nsamples = 23\\nvalue = [21, 2]'),\n",
       " Text(155.52, 18.120000000000005, 'gini = 0.0\\nsamples = 19\\nvalue = [19, 0]'),\n",
       " Text(159.84, 18.120000000000005, 'X[3] <= 190.0\\ngini = 0.5\\nsamples = 4\\nvalue = [2, 2]'),\n",
       " Text(157.68, 6.039999999999992, 'gini = 0.0\\nsamples = 2\\nvalue = [0, 2]'),\n",
       " Text(162.0, 6.039999999999992, 'gini = 0.0\\nsamples = 2\\nvalue = [2, 0]'),\n",
       " Text(170.64000000000001, 30.19999999999999, 'X[1] <= 0.545\\ngini = 0.032\\nsamples = 61\\nvalue = [60, 1]'),\n",
       " Text(168.48000000000002, 18.120000000000005, 'X[1] <= 0.535\\ngini = 0.278\\nsamples = 6\\nvalue = [5, 1]'),\n",
       " Text(166.32000000000002, 6.039999999999992, 'gini = 0.0\\nsamples = 5\\nvalue = [5, 0]'),\n",
       " Text(170.64000000000001, 6.039999999999992, 'gini = 0.0\\nsamples = 1\\nvalue = [0, 1]'),\n",
       " Text(172.8, 18.120000000000005, 'gini = 0.0\\nsamples = 55\\nvalue = [55, 0]'),\n",
       " Text(179.28, 54.359999999999985, 'X[3] <= 217.5\\ngini = 0.375\\nsamples = 4\\nvalue = [3, 1]'),\n",
       " Text(177.12, 42.28, 'X[3] <= 172.5\\ngini = 0.5\\nsamples = 2\\nvalue = [1, 1]'),\n",
       " Text(174.96, 30.19999999999999, 'gini = 0.0\\nsamples = 1\\nvalue = [1, 0]'),\n",
       " Text(179.28, 30.19999999999999, 'gini = 0.0\\nsamples = 1\\nvalue = [0, 1]'),\n",
       " Text(181.44, 42.28, 'gini = 0.0\\nsamples = 2\\nvalue = [2, 0]'),\n",
       " Text(174.96, 66.44, 'gini = 0.0\\nsamples = 102\\nvalue = [102, 0]'),\n",
       " Text(183.60000000000002, 90.6, 'X[3] <= 268.5\\ngini = 0.111\\nsamples = 34\\nvalue = [32, 2]'),\n",
       " Text(181.44, 78.52000000000001, 'X[8] <= 0.5\\ngini = 0.444\\nsamples = 6\\nvalue = [4, 2]'),\n",
       " Text(179.28, 66.44, 'gini = 0.0\\nsamples = 4\\nvalue = [4, 0]'),\n",
       " Text(183.60000000000002, 66.44, 'gini = 0.0\\nsamples = 2\\nvalue = [0, 2]'),\n",
       " Text(185.76000000000002, 78.52000000000001, 'gini = 0.0\\nsamples = 28\\nvalue = [28, 0]'),\n",
       " Text(194.4, 102.67999999999999, 'X[4] <= 2.5\\ngini = 0.219\\nsamples = 8\\nvalue = [7, 1]'),\n",
       " Text(192.24, 90.6, 'X[5] <= 0.5\\ngini = 0.5\\nsamples = 2\\nvalue = [1, 1]'),\n",
       " Text(190.08, 78.52000000000001, 'gini = 0.0\\nsamples = 1\\nvalue = [1, 0]'),\n",
       " Text(194.4, 78.52000000000001, 'gini = 0.0\\nsamples = 1\\nvalue = [0, 1]'),\n",
       " Text(196.56, 90.6, 'gini = 0.0\\nsamples = 6\\nvalue = [6, 0]'),\n",
       " Text(205.20000000000002, 114.75999999999999, 'X[3] <= 176.0\\ngini = 0.278\\nsamples = 6\\nvalue = [5, 1]'),\n",
       " Text(203.04000000000002, 102.67999999999999, 'X[0] <= 0.67\\ngini = 0.5\\nsamples = 2\\nvalue = [1, 1]'),\n",
       " Text(200.88000000000002, 90.6, 'gini = 0.0\\nsamples = 1\\nvalue = [1, 0]'),\n",
       " Text(205.20000000000002, 90.6, 'gini = 0.0\\nsamples = 1\\nvalue = [0, 1]'),\n",
       " Text(207.36, 102.67999999999999, 'gini = 0.0\\nsamples = 4\\nvalue = [4, 0]'),\n",
       " Text(237.06, 151.0, 'X[0] <= 0.475\\ngini = 0.096\\nsamples = 395\\nvalue = [375, 20]'),\n",
       " Text(224.64000000000001, 138.92000000000002, 'X[2] <= 3.5\\ngini = 0.5\\nsamples = 4\\nvalue = [2, 2]'),\n",
       " Text(222.48000000000002, 126.84, 'gini = 0.0\\nsamples = 2\\nvalue = [2, 0]'),\n",
       " Text(226.8, 126.84, 'gini = 0.0\\nsamples = 2\\nvalue = [0, 2]'),\n",
       " Text(249.48000000000002, 138.92000000000002, 'X[17] <= 0.5\\ngini = 0.088\\nsamples = 391\\nvalue = [373, 18]'),\n",
       " Text(231.12, 126.84, 'X[2] <= 5.5\\ngini = 0.057\\nsamples = 308\\nvalue = [299, 9]'),\n",
       " Text(222.48000000000002, 114.75999999999999, 'X[11] <= 0.5\\ngini = 0.04\\nsamples = 292\\nvalue = [286, 6]'),\n",
       " Text(216.0, 102.67999999999999, 'X[16] <= 0.5\\ngini = 0.029\\nsamples = 274\\nvalue = [270, 4]'),\n",
       " Text(209.52, 90.6, 'X[0] <= 0.985\\ngini = 0.009\\nsamples = 223\\nvalue = [222, 1]'),\n",
       " Text(207.36, 78.52000000000001, 'gini = 0.0\\nsamples = 212\\nvalue = [212, 0]'),\n",
       " Text(211.68, 78.52000000000001, 'X[13] <= 0.5\\ngini = 0.165\\nsamples = 11\\nvalue = [10, 1]'),\n",
       " Text(209.52, 66.44, 'gini = 0.0\\nsamples = 10\\nvalue = [10, 0]'),\n",
       " Text(213.84, 66.44, 'gini = 0.0\\nsamples = 1\\nvalue = [0, 1]'),\n",
       " Text(222.48000000000002, 90.6, 'X[3] <= 271.5\\ngini = 0.111\\nsamples = 51\\nvalue = [48, 3]'),\n",
       " Text(220.32000000000002, 78.52000000000001, 'X[0] <= 0.535\\ngini = 0.077\\nsamples = 50\\nvalue = [48, 2]'),\n",
       " Text(218.16000000000003, 66.44, 'X[2] <= 4.0\\ngini = 0.444\\nsamples = 6\\nvalue = [4, 2]'),\n",
       " Text(216.0, 54.359999999999985, 'gini = 0.0\\nsamples = 4\\nvalue = [4, 0]'),\n",
       " Text(220.32000000000002, 54.359999999999985, 'gini = 0.0\\nsamples = 2\\nvalue = [0, 2]'),\n",
       " Text(222.48000000000002, 66.44, 'gini = 0.0\\nsamples = 44\\nvalue = [44, 0]'),\n",
       " Text(224.64000000000001, 78.52000000000001, 'gini = 0.0\\nsamples = 1\\nvalue = [0, 1]'),\n",
       " Text(228.96, 102.67999999999999, 'X[1] <= 0.835\\ngini = 0.198\\nsamples = 18\\nvalue = [16, 2]'),\n",
       " Text(226.8, 90.6, 'gini = 0.0\\nsamples = 11\\nvalue = [11, 0]'),\n",
       " Text(231.12, 90.6, 'X[1] <= 0.89\\ngini = 0.408\\nsamples = 7\\nvalue = [5, 2]'),\n",
       " Text(228.96, 78.52000000000001, 'gini = 0.0\\nsamples = 2\\nvalue = [0, 2]'),\n",
       " Text(233.28000000000003, 78.52000000000001, 'gini = 0.0\\nsamples = 5\\nvalue = [5, 0]'),\n",
       " Text(239.76000000000002, 114.75999999999999, 'X[3] <= 173.0\\ngini = 0.305\\nsamples = 16\\nvalue = [13, 3]'),\n",
       " Text(237.60000000000002, 102.67999999999999, 'X[3] <= 109.5\\ngini = 0.49\\nsamples = 7\\nvalue = [4, 3]'),\n",
       " Text(235.44000000000003, 90.6, 'gini = 0.0\\nsamples = 4\\nvalue = [4, 0]'),\n",
       " Text(239.76000000000002, 90.6, 'gini = 0.0\\nsamples = 3\\nvalue = [0, 3]'),\n",
       " Text(241.92000000000002, 102.67999999999999, 'gini = 0.0\\nsamples = 9\\nvalue = [9, 0]'),\n",
       " Text(267.84000000000003, 126.84, 'X[1] <= 0.995\\ngini = 0.193\\nsamples = 83\\nvalue = [74, 9]'),\n",
       " Text(259.20000000000005, 114.75999999999999, 'X[5] <= 0.5\\ngini = 0.16\\nsamples = 80\\nvalue = [73, 7]'),\n",
       " Text(248.4, 102.67999999999999, 'X[2] <= 2.5\\ngini = 0.109\\nsamples = 69\\nvalue = [65, 4]'),\n",
       " Text(244.08, 90.6, 'X[3] <= 205.5\\ngini = 0.375\\nsamples = 4\\nvalue = [3, 1]'),\n",
       " Text(241.92000000000002, 78.52000000000001, 'gini = 0.0\\nsamples = 1\\nvalue = [0, 1]'),\n",
       " Text(246.24, 78.52000000000001, 'gini = 0.0\\nsamples = 3\\nvalue = [3, 0]'),\n",
       " Text(252.72000000000003, 90.6, 'X[2] <= 4.5\\ngini = 0.088\\nsamples = 65\\nvalue = [62, 3]'),\n",
       " Text(250.56, 78.52000000000001, 'gini = 0.0\\nsamples = 40\\nvalue = [40, 0]'),\n",
       " Text(254.88000000000002, 78.52000000000001, 'X[0] <= 0.515\\ngini = 0.211\\nsamples = 25\\nvalue = [22, 3]'),\n",
       " Text(250.56, 66.44, 'X[0] <= 0.505\\ngini = 0.5\\nsamples = 2\\nvalue = [1, 1]'),\n",
       " Text(248.4, 54.359999999999985, 'gini = 0.0\\nsamples = 1\\nvalue = [1, 0]'),\n",
       " Text(252.72000000000003, 54.359999999999985, 'gini = 0.0\\nsamples = 1\\nvalue = [0, 1]'),\n",
       " Text(259.20000000000005, 66.44, 'X[7] <= 0.5\\ngini = 0.159\\nsamples = 23\\nvalue = [21, 2]'),\n",
       " Text(257.04, 54.359999999999985, 'gini = 0.0\\nsamples = 12\\nvalue = [12, 0]'),\n",
       " Text(261.36, 54.359999999999985, 'X[1] <= 0.845\\ngini = 0.298\\nsamples = 11\\nvalue = [9, 2]'),\n",
       " Text(259.20000000000005, 42.28, 'X[1] <= 0.8\\ngini = 0.444\\nsamples = 6\\nvalue = [4, 2]'),\n",
       " Text(257.04, 30.19999999999999, 'X[0] <= 0.89\\ngini = 0.32\\nsamples = 5\\nvalue = [4, 1]'),\n",
       " Text(254.88000000000002, 18.120000000000005, 'gini = 0.0\\nsamples = 4\\nvalue = [4, 0]'),\n",
       " Text(259.20000000000005, 18.120000000000005, 'gini = 0.0\\nsamples = 1\\nvalue = [0, 1]'),\n",
       " Text(261.36, 30.19999999999999, 'gini = 0.0\\nsamples = 1\\nvalue = [0, 1]'),\n",
       " Text(263.52000000000004, 42.28, 'gini = 0.0\\nsamples = 5\\nvalue = [5, 0]'),\n",
       " Text(270.0, 102.67999999999999, 'X[1] <= 0.805\\ngini = 0.397\\nsamples = 11\\nvalue = [8, 3]'),\n",
       " Text(267.84000000000003, 90.6, 'X[7] <= 0.5\\ngini = 0.48\\nsamples = 5\\nvalue = [2, 3]'),\n",
       " Text(265.68, 78.52000000000001, 'X[0] <= 0.57\\ngini = 0.444\\nsamples = 3\\nvalue = [2, 1]'),\n",
       " Text(263.52000000000004, 66.44, 'gini = 0.0\\nsamples = 1\\nvalue = [0, 1]'),\n",
       " Text(267.84000000000003, 66.44, 'gini = 0.0\\nsamples = 2\\nvalue = [2, 0]'),\n",
       " Text(270.0, 78.52000000000001, 'gini = 0.0\\nsamples = 2\\nvalue = [0, 2]'),\n",
       " Text(272.16, 90.6, 'gini = 0.0\\nsamples = 6\\nvalue = [6, 0]'),\n",
       " Text(276.48, 114.75999999999999, 'X[7] <= 0.5\\ngini = 0.444\\nsamples = 3\\nvalue = [1, 2]'),\n",
       " Text(274.32, 102.67999999999999, 'gini = 0.0\\nsamples = 1\\nvalue = [1, 0]'),\n",
       " Text(278.64000000000004, 102.67999999999999, 'gini = 0.0\\nsamples = 2\\nvalue = [0, 2]'),\n",
       " Text(199.125, 163.07999999999998, 'gini = 0.0\\nsamples = 1\\nvalue = [0, 1]'),\n",
       " Text(201.28500000000003, 175.16, 'gini = 0.0\\nsamples = 3\\nvalue = [0, 3]'),\n",
       " Text(301.05, 187.24, 'X[1] <= 0.805\\ngini = 0.498\\nsamples = 599\\nvalue = [318, 281]'),\n",
       " Text(287.28000000000003, 175.16, 'X[3] <= 274.5\\ngini = 0.043\\nsamples = 229\\nvalue = [224, 5]'),\n",
       " Text(280.8, 163.07999999999998, 'X[16] <= 0.5\\ngini = 0.009\\nsamples = 216\\nvalue = [215, 1]'),\n",
       " Text(278.64000000000004, 151.0, 'gini = 0.0\\nsamples = 194\\nvalue = [194, 0]'),\n",
       " Text(282.96000000000004, 151.0, 'X[3] <= 194.0\\ngini = 0.087\\nsamples = 22\\nvalue = [21, 1]'),\n",
       " Text(280.8, 138.92000000000002, 'gini = 0.0\\nsamples = 14\\nvalue = [14, 0]'),\n",
       " Text(285.12, 138.92000000000002, 'X[3] <= 201.0\\ngini = 0.219\\nsamples = 8\\nvalue = [7, 1]'),\n",
       " Text(282.96000000000004, 126.84, 'X[4] <= 5.5\\ngini = 0.5\\nsamples = 2\\nvalue = [1, 1]'),\n",
       " Text(280.8, 114.75999999999999, 'gini = 0.0\\nsamples = 1\\nvalue = [1, 0]'),\n",
       " Text(285.12, 114.75999999999999, 'gini = 0.0\\nsamples = 1\\nvalue = [0, 1]'),\n",
       " Text(287.28000000000003, 126.84, 'gini = 0.0\\nsamples = 6\\nvalue = [6, 0]'),\n",
       " Text(293.76, 163.07999999999998, 'X[3] <= 281.5\\ngini = 0.426\\nsamples = 13\\nvalue = [9, 4]'),\n",
       " Text(291.6, 151.0, 'X[6] <= 0.5\\ngini = 0.32\\nsamples = 5\\nvalue = [1, 4]'),\n",
       " Text(289.44, 138.92000000000002, 'gini = 0.0\\nsamples = 4\\nvalue = [0, 4]'),\n",
       " Text(293.76, 138.92000000000002, 'gini = 0.0\\nsamples = 1\\nvalue = [1, 0]'),\n",
       " Text(295.92, 151.0, 'gini = 0.0\\nsamples = 8\\nvalue = [8, 0]'),\n",
       " Text(314.82, 175.16, 'X[3] <= 212.5\\ngini = 0.379\\nsamples = 370\\nvalue = [94, 276]'),\n",
       " Text(304.56, 163.07999999999998, 'X[0] <= 0.94\\ngini = 0.198\\nsamples = 63\\nvalue = [56, 7]'),\n",
       " Text(300.24, 151.0, 'X[1] <= 0.995\\ngini = 0.1\\nsamples = 57\\nvalue = [54, 3]'),\n",
       " Text(298.08000000000004, 138.92000000000002, 'X[0] <= 0.855\\ngini = 0.069\\nsamples = 56\\nvalue = [54, 2]'),\n",
       " Text(295.92, 126.84, 'gini = 0.0\\nsamples = 48\\nvalue = [48, 0]'),\n",
       " Text(300.24, 126.84, 'X[0] <= 0.865\\ngini = 0.375\\nsamples = 8\\nvalue = [6, 2]'),\n",
       " Text(298.08000000000004, 114.75999999999999, 'gini = 0.0\\nsamples = 1\\nvalue = [0, 1]'),\n",
       " Text(302.40000000000003, 114.75999999999999, 'X[17] <= 0.5\\ngini = 0.245\\nsamples = 7\\nvalue = [6, 1]'),\n",
       " Text(300.24, 102.67999999999999, 'gini = 0.0\\nsamples = 6\\nvalue = [6, 0]'),\n",
       " Text(304.56, 102.67999999999999, 'gini = 0.0\\nsamples = 1\\nvalue = [0, 1]'),\n",
       " Text(302.40000000000003, 138.92000000000002, 'gini = 0.0\\nsamples = 1\\nvalue = [0, 1]'),\n",
       " Text(308.88, 151.0, 'X[3] <= 133.0\\ngini = 0.444\\nsamples = 6\\nvalue = [2, 4]'),\n",
       " Text(306.72, 138.92000000000002, 'gini = 0.0\\nsamples = 2\\nvalue = [2, 0]'),\n",
       " Text(311.04, 138.92000000000002, 'gini = 0.0\\nsamples = 4\\nvalue = [0, 4]'),\n",
       " Text(325.08000000000004, 163.07999999999998, 'X[4] <= 6.5\\ngini = 0.217\\nsamples = 307\\nvalue = [38, 269]'),\n",
       " Text(319.68, 151.0, 'X[0] <= 0.71\\ngini = 0.124\\nsamples = 286\\nvalue = [19, 267]'),\n",
       " Text(315.36, 138.92000000000002, 'X[1] <= 0.905\\ngini = 0.473\\nsamples = 13\\nvalue = [8, 5]'),\n",
       " Text(313.20000000000005, 126.84, 'gini = 0.0\\nsamples = 6\\nvalue = [6, 0]'),\n",
       " Text(317.52000000000004, 126.84, 'X[1] <= 0.935\\ngini = 0.408\\nsamples = 7\\nvalue = [2, 5]'),\n",
       " Text(315.36, 114.75999999999999, 'gini = 0.0\\nsamples = 5\\nvalue = [0, 5]'),\n",
       " Text(319.68, 114.75999999999999, 'gini = 0.0\\nsamples = 2\\nvalue = [2, 0]'),\n",
       " Text(324.0, 138.92000000000002, 'X[2] <= 3.5\\ngini = 0.077\\nsamples = 273\\nvalue = [11, 262]'),\n",
       " Text(321.84000000000003, 126.84, 'gini = 0.0\\nsamples = 4\\nvalue = [4, 0]'),\n",
       " Text(326.16, 126.84, 'X[2] <= 5.5\\ngini = 0.051\\nsamples = 269\\nvalue = [7, 262]'),\n",
       " Text(324.0, 114.75999999999999, 'X[0] <= 0.945\\ngini = 0.037\\nsamples = 267\\nvalue = [5, 262]'),\n",
       " Text(321.84000000000003, 102.67999999999999, 'X[3] <= 291.5\\ngini = 0.03\\nsamples = 266\\nvalue = [4, 262]'),\n",
       " Text(319.68, 90.6, 'X[0] <= 0.915\\ngini = 0.022\\nsamples = 265\\nvalue = [3, 262]'),\n",
       " Text(314.28000000000003, 78.52000000000001, 'X[12] <= 0.5\\ngini = 0.015\\nsamples = 260\\nvalue = [2, 258]'),\n",
       " Text(309.96000000000004, 66.44, 'X[1] <= 0.835\\ngini = 0.008\\nsamples = 254\\nvalue = [1, 253]'),\n",
       " Text(307.8, 54.359999999999985, 'X[3] <= 264.0\\ngini = 0.111\\nsamples = 17\\nvalue = [1, 16]'),\n",
       " Text(305.64000000000004, 42.28, 'gini = 0.0\\nsamples = 15\\nvalue = [0, 15]'),\n",
       " Text(309.96000000000004, 42.28, 'X[4] <= 5.5\\ngini = 0.5\\nsamples = 2\\nvalue = [1, 1]'),\n",
       " Text(307.8, 30.19999999999999, 'gini = 0.0\\nsamples = 1\\nvalue = [0, 1]'),\n",
       " Text(312.12, 30.19999999999999, 'gini = 0.0\\nsamples = 1\\nvalue = [1, 0]'),\n",
       " Text(312.12, 54.359999999999985, 'gini = 0.0\\nsamples = 237\\nvalue = [0, 237]'),\n",
       " Text(318.6, 66.44, 'X[4] <= 5.5\\ngini = 0.278\\nsamples = 6\\nvalue = [1, 5]'),\n",
       " Text(316.44, 54.359999999999985, 'gini = 0.0\\nsamples = 5\\nvalue = [0, 5]'),\n",
       " Text(320.76000000000005, 54.359999999999985, 'gini = 0.0\\nsamples = 1\\nvalue = [1, 0]'),\n",
       " Text(325.08000000000004, 78.52000000000001, 'X[3] <= 222.5\\ngini = 0.32\\nsamples = 5\\nvalue = [1, 4]'),\n",
       " Text(322.92, 66.44, 'gini = 0.0\\nsamples = 1\\nvalue = [1, 0]'),\n",
       " Text(327.24, 66.44, 'gini = 0.0\\nsamples = 4\\nvalue = [0, 4]'),\n",
       " Text(324.0, 90.6, 'gini = 0.0\\nsamples = 1\\nvalue = [1, 0]'),\n",
       " Text(326.16, 102.67999999999999, 'gini = 0.0\\nsamples = 1\\nvalue = [1, 0]'),\n",
       " Text(328.32000000000005, 114.75999999999999, 'gini = 0.0\\nsamples = 2\\nvalue = [2, 0]'),\n",
       " Text(330.48, 151.0, 'X[14] <= 0.5\\ngini = 0.172\\nsamples = 21\\nvalue = [19, 2]'),\n",
       " Text(328.32000000000005, 138.92000000000002, 'gini = 0.0\\nsamples = 19\\nvalue = [19, 0]'),\n",
       " Text(332.64000000000004, 138.92000000000002, 'gini = 0.0\\nsamples = 2\\nvalue = [0, 2]')]"
      ]
     },
     "execution_count": 38,
     "metadata": {},
     "output_type": "execute_result"
    },
    {
     "data": {
      "image/png": "[encoded data removed]",
      "text/plain": [
       "<Figure size 432x288 with 1 Axes>"
      ]
     },
     "metadata": {
      "needs_background": "light"
     },
     "output_type": "display_data"
    }
   ],
   "source": [
    "plot_tree(df, filled=True)"
   ]
  },
  {
   "cell_type": "markdown",
   "id": "0a7b9b79",
   "metadata": {},
   "source": [
    "# Random Forest"
   ]
  },
  {
   "cell_type": "code",
   "execution_count": 41,
   "id": "c364cc58",
   "metadata": {},
   "outputs": [],
   "source": [
    "from sklearn.ensemble import RandomForestClassifier"
   ]
  },
  {
   "cell_type": "code",
   "execution_count": 42,
   "id": "4520945a",
   "metadata": {},
   "outputs": [],
   "source": [
    "#estimator is nothing but how many differnt models we want, how many diff decisoin trees we want\n",
    "\n",
    "classifier=RandomForestClassifier(n_estimators=20, criterion='entropy' , random_state=0)"
   ]
  },
  {
   "cell_type": "code",
   "execution_count": 43,
   "id": "a5f08587",
   "metadata": {},
   "outputs": [
    {
     "data": {
      "text/plain": [
       "RandomForestClassifier(criterion='entropy', n_estimators=20, random_state=0)"
      ]
     },
     "execution_count": 43,
     "metadata": {},
     "output_type": "execute_result"
    }
   ],
   "source": [
    "classifier.fit(x_train, y_train)"
   ]
  },
  {
   "cell_type": "code",
   "execution_count": 44,
   "id": "f31c0057",
   "metadata": {},
   "outputs": [
    {
     "data": {
      "text/plain": [
       "array([0, 0, 0, ..., 0, 0, 1], dtype=int64)"
      ]
     },
     "execution_count": 44,
     "metadata": {},
     "output_type": "execute_result"
    }
   ],
   "source": [
    "y_pred3=classifier.predict(x_test)\n",
    "y_pred3"
   ]
  },
  {
   "cell_type": "code",
   "execution_count": 45,
   "id": "04c23419",
   "metadata": {},
   "outputs": [
    {
     "data": {
      "text/plain": [
       "array([0, 0, 0, ..., 0, 0, 1], dtype=int64)"
      ]
     },
     "execution_count": 45,
     "metadata": {},
     "output_type": "execute_result"
    }
   ],
   "source": [
    "y_test"
   ]
  },
  {
   "cell_type": "code",
   "execution_count": 46,
   "id": "9a251251",
   "metadata": {},
   "outputs": [
    {
     "data": {
      "text/plain": [
       "array([[3407,    9],\n",
       "       [  45, 1039]], dtype=int64)"
      ]
     },
     "execution_count": 46,
     "metadata": {},
     "output_type": "execute_result"
    }
   ],
   "source": [
    "cm3=confusion_matrix(y_test,y_pred3)\n",
    "cm3"
   ]
  },
  {
   "cell_type": "code",
   "execution_count": 47,
   "id": "1ce4ab49",
   "metadata": {},
   "outputs": [
    {
     "data": {
      "text/plain": [
       "0.988"
      ]
     },
     "execution_count": 47,
     "metadata": {},
     "output_type": "execute_result"
    }
   ],
   "source": [
    "accuracy_score3=accuracy_score(y_test, y_pred3)\n",
    "accuracy_score3"
   ]
  },
  {
   "cell_type": "code",
   "execution_count": 48,
   "id": "cef27ff0",
   "metadata": {},
   "outputs": [],
   "source": [
    "#if we dont give criterition, then accuracy will decrease\n",
    "#check it by removing criterion in object creation"
   ]
  },
  {
   "cell_type": "markdown",
   "id": "bf6dfe1d",
   "metadata": {},
   "source": [
    "# KNN"
   ]
  },
  {
   "cell_type": "code",
   "execution_count": 49,
   "id": "fca797cd",
   "metadata": {},
   "outputs": [],
   "source": [
    "from sklearn.neighbors import KNeighborsClassifier"
   ]
  },
  {
   "cell_type": "code",
   "execution_count": 50,
   "id": "8fc222a5",
   "metadata": {},
   "outputs": [],
   "source": [
    "classifier=KNeighborsClassifier(n_neighbors=5)"
   ]
  },
  {
   "cell_type": "code",
   "execution_count": 51,
   "id": "20ec847a",
   "metadata": {},
   "outputs": [
    {
     "data": {
      "text/plain": [
       "KNeighborsClassifier()"
      ]
     },
     "execution_count": 51,
     "metadata": {},
     "output_type": "execute_result"
    }
   ],
   "source": [
    "classifier.fit(x_train, y_train)"
   ]
  },
  {
   "cell_type": "code",
   "execution_count": 52,
   "id": "c4e8e271",
   "metadata": {},
   "outputs": [
    {
     "data": {
      "text/plain": [
       "array([0, 0, 1, ..., 0, 0, 1], dtype=int64)"
      ]
     },
     "execution_count": 52,
     "metadata": {},
     "output_type": "execute_result"
    }
   ],
   "source": [
    "y_pred4=classifier.predict(x_test)\n",
    "y_pred4"
   ]
  },
  {
   "cell_type": "code",
   "execution_count": 53,
   "id": "eee394a2",
   "metadata": {},
   "outputs": [
    {
     "data": {
      "text/plain": [
       "array([0, 0, 0, ..., 0, 0, 1], dtype=int64)"
      ]
     },
     "execution_count": 53,
     "metadata": {},
     "output_type": "execute_result"
    }
   ],
   "source": [
    "y_test"
   ]
  },
  {
   "cell_type": "code",
   "execution_count": 54,
   "id": "a5c76c48",
   "metadata": {},
   "outputs": [
    {
     "data": {
      "text/plain": [
       "array([[3216,  200],\n",
       "       [  87,  997]], dtype=int64)"
      ]
     },
     "execution_count": 54,
     "metadata": {},
     "output_type": "execute_result"
    }
   ],
   "source": [
    "cm4=confusion_matrix(y_test,y_pred4)\n",
    "cm4"
   ]
  },
  {
   "cell_type": "code",
   "execution_count": 55,
   "id": "99b7d012",
   "metadata": {},
   "outputs": [
    {
     "data": {
      "text/plain": [
       "0.9362222222222222"
      ]
     },
     "execution_count": 55,
     "metadata": {},
     "output_type": "execute_result"
    }
   ],
   "source": [
    "accuracy_score4=accuracy_score(y_test, y_pred4)\n",
    "accuracy_score4"
   ]
  },
  {
   "cell_type": "code",
   "execution_count": 56,
   "id": "78bb3c8d",
   "metadata": {},
   "outputs": [],
   "source": [
    "#here accuracy depends upon k value\n",
    "#plotting graph with different value of k\n",
    "\n",
    "error=[]\n",
    "for i in  range(1,40) :\n",
    "    knn=KNeighborsClassifier(n_neighbors=i)\n",
    "    knn.fit(x_train, y_train)\n",
    "    Ypred_i=knn.predict(x_test)\n",
    "    error.append(np.mean(Ypred_i != y_test))                              #mean error appending for every value of k\n",
    "    #we are appending onhly for that value whjich doesnt match"
   ]
  },
  {
   "cell_type": "code",
   "execution_count": 57,
   "id": "2fadfd0a",
   "metadata": {},
   "outputs": [
    {
     "data": {
      "text/plain": [
       "Text(0, 0.5, 'Mean Error')"
      ]
     },
     "execution_count": 57,
     "metadata": {},
     "output_type": "execute_result"
    },
    {
     "data": {
      "image/png": "[encoded data removed]",
      "text/plain": [
       "<Figure size 864x432 with 1 Axes>"
      ]
     },
     "metadata": {},
     "output_type": "display_data"
    }
   ],
   "source": [
    "plt.style.use('seaborn')\n",
    "plt.figure(figsize=(12,6))   #used to define size of figure\n",
    "plt.plot(range(1,40),error, color='teal', linestyle='dashed', marker='o', markerfacecolor='red',markersize=10)      \n",
    "#k value on x axis and error value on y axis\n",
    "plt.xlabel(\"Value of k\")\n",
    "plt.ylabel(\"Mean Error\")"
   ]
  },
  {
   "cell_type": "code",
   "execution_count": 58,
   "id": "04b1077f",
   "metadata": {},
   "outputs": [
    {
     "data": {
      "text/plain": [
       "Text(0.5, 1.0, 'Accuracy score of various Algo')"
      ]
     },
     "execution_count": 58,
     "metadata": {},
     "output_type": "execute_result"
    },
    {
     "data": {
      "image/png": "[encoded data removed]",
      "text/plain": [
       "<Figure size 864x432 with 1 Axes>"
      ]
     },
     "metadata": {},
     "output_type": "display_data"
    }
   ],
   "source": [
    "plt.figure(figsize=(12,6)) \n",
    "x=[accuracy_score1,accuracy_score2,accuracy_score3,accuracy_score4]\n",
    "y=['Logistic Regression','Decision Tree','Random Forest','KNN']\n",
    "\n",
    "plt.bar(y,x, color=\"#444444\")\n",
    "plt.xlabel('ML Algorithms')\n",
    "plt.ylabel('Accuracy Score')\n",
    "plt.title('Accuracy score of various Algo')"
   ]
  },
  {
   "cell_type": "markdown",
   "id": "362437cd",
   "metadata": {},
   "source": [
    "## Since, the Random Forest Classification is showing  maximum Accuracy Score among all the classification algorithms we have used here. Hence, Random Forest Classification fits best for our model.."
   ]
  },
  {
   "cell_type": "code",
   "execution_count": null,
   "id": "ebe265d5",
   "metadata": {},
   "outputs": [],
   "source": []
  }
 ],
 "metadata": {
  "kernelspec": {
   "display_name": "Python 3",
   "language": "python",
   "name": "python3"
  },
  "language_info": {
   "codemirror_mode": {
    "name": "ipython",
    "version": 3
   },
   "file_extension": ".py",
   "mimetype": "text/x-python",
   "name": "python",
   "nbconvert_exporter": "python",
   "pygments_lexer": "ipython3",
   "version": "3.8.8"
  }
 },
 "nbformat": 4,
 "nbformat_minor": 5
}
